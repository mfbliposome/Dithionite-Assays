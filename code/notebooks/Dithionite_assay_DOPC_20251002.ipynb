{
 "cells": [
  {
   "cell_type": "code",
   "execution_count": 1,
   "id": "57deaac5-92f6-47a8-b3da-be548356b00a",
   "metadata": {},
   "outputs": [],
   "source": [
    "import sys\n",
    "import os\n",
    "import pandas as pd\n",
    "import matplotlib.pyplot as plt\n",
    "\n",
    "\n",
    "# Add the `src` folder to the system path\n",
    "sys.path.append(os.path.abspath('../src'))"
   ]
  },
  {
   "cell_type": "code",
   "execution_count": 2,
   "id": "b2facdb4-e55e-4bc6-a508-a5405a7d84fe",
   "metadata": {},
   "outputs": [],
   "source": [
    "from fluorescence_fit import *\n",
    "from main import run_fluorescence_analysis"
   ]
  },
  {
   "cell_type": "code",
   "execution_count": 3,
   "id": "d8b62147-1e8b-4559-8e3f-1a25a7fa4f06",
   "metadata": {},
   "outputs": [
    {
     "name": "stdout",
     "output_type": "stream",
     "text": [
      "Trial 1: R^2 = 0.9992, RMSE = 0.0219\n",
      "Trial 2: R^2 = 0.9988, RMSE = 0.0289\n",
      "Trial 3: R^2 = 0.9984, RMSE = 0.0287\n",
      "Saved: 20250703_DOPC_fit_params_Triton.csv\n",
      "Saved: 20250703_DOPC_fit_plot_Triton.png\n",
      "Saved: 20250703_DOPC_residual_plot_Triton.png\n",
      "Saved fit plot to: 20250703_DOPC_fit_plot_noTriton_fixedkout.png\n",
      "Saved residual plot to: 20250703_DOPC_residual_plot_noTriton_fixedkout.png\n",
      "Saved parameters to: 20250703_DOPC_fit_params_noTriton_fixedkout.csv\n",
      "Results saved to ../../results/20251002_DOPC/20250703_DOPC_20251002-17\n",
      "All results saved to ../../results/20251002_DOPC/20250703_DOPC_results.joblib\n"
     ]
    }
   ],
   "source": [
    "file_path = '../../data/PlateReader/20250703_DOPC.xlsx'\n",
    "results = run_fluorescence_analysis(\n",
    "    file_path,\n",
    "    results_folder='../../results/20251002_DOPC'\n",
    ")"
   ]
  },
  {
   "cell_type": "code",
   "execution_count": 4,
   "id": "4b05701d-7fce-44b6-9ee8-db9bf8d680c6",
   "metadata": {},
   "outputs": [
    {
     "name": "stdout",
     "output_type": "stream",
     "text": [
      "Trial 1: R^2 = 0.9138, RMSE = 0.2795\n",
      "Trial 2: R^2 = 0.9379, RMSE = 0.2671\n",
      "Trial 3: R^2 = 0.9463, RMSE = 0.2325\n",
      "Saved: 20250716_DOPC_fit_params_Triton.csv\n",
      "Saved: 20250716_DOPC_fit_plot_Triton.png\n",
      "Saved: 20250716_DOPC_residual_plot_Triton.png\n",
      "Saved fit plot to: 20250716_DOPC_fit_plot_noTriton_fixedkout.png\n",
      "Saved residual plot to: 20250716_DOPC_residual_plot_noTriton_fixedkout.png\n",
      "Saved parameters to: 20250716_DOPC_fit_params_noTriton_fixedkout.csv\n",
      "Results saved to ../../results/20251002_DOPC/20250716_DOPC_20251002-17\n",
      "All results saved to ../../results/20251002_DOPC/20250716_DOPC_results.joblib\n"
     ]
    }
   ],
   "source": [
    "file_path = '../../data/PlateReader/20250716_DOPC.xlsx'\n",
    "results = run_fluorescence_analysis(\n",
    "    file_path,\n",
    "    results_folder='../../results/20251002_DOPC'\n",
    ")"
   ]
  },
  {
   "cell_type": "code",
   "execution_count": 5,
   "id": "75a41825-4dac-469b-952d-e84102cc8f8a",
   "metadata": {},
   "outputs": [
    {
     "name": "stdout",
     "output_type": "stream",
     "text": [
      "Loaded: 20250703_DOPC_results.joblib\n",
      "Loaded: 20250716_DOPC_results.joblib\n"
     ]
    }
   ],
   "source": [
    "import os\n",
    "import joblib\n",
    "\n",
    "results_folder = '../../results/20251002_DOPC/'\n",
    "\n",
    "joblib_files = [f for f in os.listdir(results_folder) if f.endswith('.joblib')]\n",
    "\n",
    "# Load them into a dictionary\n",
    "all_results_loaded = {}\n",
    "for f in joblib_files:\n",
    "    file_path = os.path.join(results_folder, f)\n",
    "    results = joblib.load(file_path)\n",
    "    all_results_loaded[f] = results\n",
    "    print(f\"Loaded: {f}\")"
   ]
  },
  {
   "cell_type": "code",
   "execution_count": 6,
   "id": "09c5e4df-936b-470a-87d4-f2f371c89920",
   "metadata": {},
   "outputs": [
    {
     "data": {
      "text/plain": [
       "dict_keys(['20250703_DOPC_results.joblib', '20250716_DOPC_results.joblib'])"
      ]
     },
     "execution_count": 6,
     "metadata": {},
     "output_type": "execute_result"
    }
   ],
   "source": [
    "all_results_loaded.keys()"
   ]
  },
  {
   "cell_type": "code",
   "execution_count": 7,
   "id": "228cd224-6f8a-4840-9aff-0bd4babae032",
   "metadata": {},
   "outputs": [],
   "source": [
    "k_perm_1 = all_results_loaded['20250703_DOPC_results.joblib']['results_no_triton_fixed']['k_perm']\n",
    "k_perm_2 = all_results_loaded['20250716_DOPC_results.joblib']['results_no_triton_fixed']['k_perm']"
   ]
  },
  {
   "cell_type": "code",
   "execution_count": 8,
   "id": "f682f48c-0319-4885-8616-36dce2036be3",
   "metadata": {},
   "outputs": [
    {
     "data": {
      "text/plain": [
       "(0    0.124839\n",
       " 1    0.123936\n",
       " 2    0.117281\n",
       " Name: k_perm, dtype: float64,\n",
       " 0    0.162820\n",
       " 1    0.171477\n",
       " 2    0.173674\n",
       " Name: k_perm, dtype: float64)"
      ]
     },
     "execution_count": 8,
     "metadata": {},
     "output_type": "execute_result"
    }
   ],
   "source": [
    "k_perm_1, k_perm_2"
   ]
  },
  {
   "cell_type": "code",
   "execution_count": 9,
   "id": "94fb4d19-a043-465d-847e-e0bf633b18a3",
   "metadata": {},
   "outputs": [
    {
     "data": {
      "image/png": "[encoded data removed]",
      "text/plain": [
       "<Figure size 600x500 with 1 Axes>"
      ]
     },
     "metadata": {},
     "output_type": "display_data"
    }
   ],
   "source": [
    "df_perm = pd.concat([k_perm_1, k_perm_2], axis=1)\n",
    "\n",
    "# Plot\n",
    "plt.figure(figsize=(6, 5))\n",
    "df_perm.boxplot()\n",
    "plt.ylabel(\"k_perm\")\n",
    "plt.xticks([1,2], [\"20250703_DOPC\", \"20250716_DOPC\"])  # explicitly set labels\n",
    "plt.title(\"Comparison of k_perm values (DOPC PlateReader)\")\n",
    "plt.grid(True, linestyle=\"--\", alpha=0.6)\n",
    "plt.tight_layout()\n",
    "plt.show()"
   ]
  },
  {
   "cell_type": "code",
   "execution_count": null,
   "id": "6d33b3ee-080c-49a4-8100-cd202093f117",
   "metadata": {},
   "outputs": [],
   "source": [
    "# file_path = '../../data/PlateReader/0.16_mM_DOPC.csv0.16_mM_DOPC.xlsx'\n",
    "# results = run_fluorescence_analysis(\n",
    "#     file_path,\n",
    "#     results_folder='../../results/20251002_DOPC'\n",
    "# )"
   ]
  }
 ],
 "metadata": {
  "kernelspec": {
   "display_name": "Python 3 (ipykernel)",
   "language": "python",
   "name": "python3"
  },
  "language_info": {
   "codemirror_mode": {
    "name": "ipython",
    "version": 3
   },
   "file_extension": ".py",
   "mimetype": "text/x-python",
   "name": "python",
   "nbconvert_exporter": "python",
   "pygments_lexer": "ipython3",
   "version": "3.11.5"
  }
 },
 "nbformat": 4,
 "nbformat_minor": 5
}
