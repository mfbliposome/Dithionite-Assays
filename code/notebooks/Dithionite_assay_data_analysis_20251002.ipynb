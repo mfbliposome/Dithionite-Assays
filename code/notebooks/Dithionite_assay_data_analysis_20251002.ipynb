{
 "cells": [
  {
   "cell_type": "markdown",
   "id": "6b9959e6-c7fe-4907-9c33-952460997d07",
   "metadata": {},
   "source": [
    "**Created On:** Oct. 2nd, 2025\\\n",
    "**Author:** Hao Liu"
   ]
  },
  {
   "cell_type": "code",
   "execution_count": 26,
   "id": "c5c46a15-782b-4827-b160-8cbd1b0a2d63",
   "metadata": {},
   "outputs": [],
   "source": [
    "import sys\n",
    "import os\n",
    "import pandas as pd\n",
    "import matplotlib.pyplot as plt\n",
    "\n",
    "\n",
    "# Add the `src` folder to the system path\n",
    "sys.path.append(os.path.abspath('../src'))"
   ]
  },
  {
   "cell_type": "code",
   "execution_count": 3,
   "id": "e2b67aa9-c739-45f2-8817-577d04578739",
   "metadata": {},
   "outputs": [],
   "source": [
    "from fluorescence_fit import *\n",
    "from main import run_fluorescence_analysis\n"
   ]
  },
  {
   "cell_type": "markdown",
   "id": "1c7c4004-52f1-41d9-be4f-4f9226d56fb7",
   "metadata": {},
   "source": [
    "### Data modeling"
   ]
  },
  {
   "cell_type": "code",
   "execution_count": 8,
   "id": "1e010d44-17d7-47ba-b614-28651686dc93",
   "metadata": {},
   "outputs": [
    {
     "name": "stdout",
     "output_type": "stream",
     "text": [
      "Trial 1: R^2 = 0.9530, RMSE = 0.2553\n",
      "Trial 2: R^2 = 0.9662, RMSE = 0.2095\n",
      "Trial 3: R^2 = 0.9260, RMSE = 0.2968\n",
      "Saved: 20250718_sample2decylsulfate_fit_params_Triton.csv\n",
      "Saved: 20250718_sample2decylsulfate_fit_plot_Triton.png\n",
      "Saved: 20250718_sample2decylsulfate_residual_plot_Triton.png\n",
      "Saved fit plot to: 20250718_sample2decylsulfate_fit_plot_noTriton_fixedkout.png\n",
      "Saved residual plot to: 20250718_sample2decylsulfate_residual_plot_noTriton_fixedkout.png\n",
      "Saved parameters to: 20250718_sample2decylsulfate_fit_params_noTriton_fixedkout.csv\n",
      "Results saved to ../../results/20251002/20250718_sample2decylsulfate_20251002-14\n",
      "All results saved to ../../results/20251002/20250718_sample2decylsulfate_results.joblib\n"
     ]
    }
   ],
   "source": [
    "file_path = '../../data/PlateReader/20250718_sample2decylsulfate.xlsx'\n",
    "results = run_fluorescence_analysis(\n",
    "    file_path,\n",
    "    results_folder='../../results/20251002'\n",
    ")"
   ]
  },
  {
   "cell_type": "code",
   "execution_count": 9,
   "id": "7af0a187-b1f2-43c3-a41b-9380b44a4a89",
   "metadata": {},
   "outputs": [
    {
     "name": "stdout",
     "output_type": "stream",
     "text": [
      "Trial 1: R^2 = 0.9675, RMSE = 0.1712\n",
      "Trial 2: R^2 = 0.9538, RMSE = 0.1918\n",
      "Trial 3: R^2 = 0.9530, RMSE = 0.1915\n",
      "Saved: 20250718_sample2dodecylsulfate_fit_params_Triton.csv\n",
      "Saved: 20250718_sample2dodecylsulfate_fit_plot_Triton.png\n",
      "Saved: 20250718_sample2dodecylsulfate_residual_plot_Triton.png\n",
      "Saved fit plot to: 20250718_sample2dodecylsulfate_fit_plot_noTriton_fixedkout.png\n",
      "Saved residual plot to: 20250718_sample2dodecylsulfate_residual_plot_noTriton_fixedkout.png\n",
      "Saved parameters to: 20250718_sample2dodecylsulfate_fit_params_noTriton_fixedkout.csv\n",
      "Results saved to ../../results/20251002/20250718_sample2dodecylsulfate_20251002-14\n",
      "All results saved to ../../results/20251002/20250718_sample2dodecylsulfate_results.joblib\n"
     ]
    }
   ],
   "source": [
    "file_path = '../../data/PlateReader/20250718_sample2dodecylsulfate.xlsx'\n",
    "results = run_fluorescence_analysis(\n",
    "    file_path,\n",
    "    results_folder='../../results/20251002'\n",
    ")"
   ]
  },
  {
   "cell_type": "code",
   "execution_count": 10,
   "id": "a5412ce2-2ed6-4d0e-9b8b-f90c5f0fbb60",
   "metadata": {},
   "outputs": [
    {
     "name": "stdout",
     "output_type": "stream",
     "text": [
      "Trial 1: R^2 = 0.8345, RMSE = 0.3592\n",
      "Trial 2: R^2 = 0.7890, RMSE = 0.3975\n",
      "Trial 3: R^2 = 0.8646, RMSE = 0.2872\n",
      "Saved: 20250804_sample2dodecylphosphate_fit_params_Triton.csv\n",
      "Saved: 20250804_sample2dodecylphosphate_fit_plot_Triton.png\n",
      "Saved: 20250804_sample2dodecylphosphate_residual_plot_Triton.png\n",
      "Saved fit plot to: 20250804_sample2dodecylphosphate_fit_plot_noTriton_fixedkout.png\n",
      "Saved residual plot to: 20250804_sample2dodecylphosphate_residual_plot_noTriton_fixedkout.png\n",
      "Saved parameters to: 20250804_sample2dodecylphosphate_fit_params_noTriton_fixedkout.csv\n",
      "Results saved to ../../results/20251002/20250804_sample2dodecylphosphate_20251002-14\n",
      "All results saved to ../../results/20251002/20250804_sample2dodecylphosphate_results.joblib\n"
     ]
    }
   ],
   "source": [
    "file_path = '../../data/PlateReader/20250804_sample2dodecylphosphate.xlsx'\n",
    "results = run_fluorescence_analysis(\n",
    "    file_path,\n",
    "    results_folder='../../results/20251002'\n",
    ")"
   ]
  },
  {
   "cell_type": "code",
   "execution_count": null,
   "id": "2e5954b9-5cb5-418e-b83f-923a5b63cfdf",
   "metadata": {},
   "outputs": [],
   "source": []
  },
  {
   "cell_type": "code",
   "execution_count": null,
   "id": "a6ed96a7-0dd2-42a4-989d-276327eb84d1",
   "metadata": {},
   "outputs": [],
   "source": []
  },
  {
   "cell_type": "code",
   "execution_count": 4,
   "id": "3b60614d-da62-4bd4-be8c-7e270ec5253c",
   "metadata": {},
   "outputs": [
    {
     "name": "stdout",
     "output_type": "stream",
     "text": [
      "Trial 1: R^2 = 0.4542, RMSE = 0.0370\n",
      "Trial 2: R^2 = 0.7208, RMSE = 0.0306\n",
      "Trial 3: R^2 = 0.0215, RMSE = 0.0313\n",
      "Saved: 20250804_sample10decylsulfate_fit_params_Triton.csv\n",
      "Saved: 20250804_sample10decylsulfate_fit_plot_Triton.png\n",
      "Saved: 20250804_sample10decylsulfate_residual_plot_Triton.png\n"
     ]
    },
    {
     "ename": "ValueError",
     "evalue": "`x0` is infeasible.",
     "output_type": "error",
     "traceback": [
      "\u001b[0;31m---------------------------------------------------------------------------\u001b[0m",
      "\u001b[0;31mValueError\u001b[0m                                Traceback (most recent call last)",
      "Cell \u001b[0;32mIn[4], line 2\u001b[0m\n\u001b[1;32m      1\u001b[0m file_path \u001b[38;5;241m=\u001b[39m \u001b[38;5;124m'\u001b[39m\u001b[38;5;124m../../data/PlateReader/20250804_sample10decylsulfate.xlsx\u001b[39m\u001b[38;5;124m'\u001b[39m\n\u001b[0;32m----> 2\u001b[0m results \u001b[38;5;241m=\u001b[39m run_fluorescence_analysis(\n\u001b[1;32m      3\u001b[0m     file_path,\n\u001b[1;32m      4\u001b[0m     results_folder\u001b[38;5;241m=\u001b[39m\u001b[38;5;124m'\u001b[39m\u001b[38;5;124m../../results/20251002\u001b[39m\u001b[38;5;124m'\u001b[39m\n\u001b[1;32m      5\u001b[0m )\n",
      "File \u001b[0;32m~/Documents/GitHub/Dithionite-Assays/code/src/main.py:48\u001b[0m, in \u001b[0;36mrun_fluorescence_analysis\u001b[0;34m(file_path, sheet_name, results_folder, time_range, p0_no_triton)\u001b[0m\n\u001b[1;32m     45\u001b[0m k_deg_out \u001b[38;5;241m=\u001b[39m results_triton[\u001b[38;5;124m'\u001b[39m\u001b[38;5;124mk_deg\u001b[39m\u001b[38;5;124m'\u001b[39m]\u001b[38;5;241m.\u001b[39mmean()\n\u001b[1;32m     47\u001b[0m \u001b[38;5;66;03m# No Triton: analytical\u001b[39;00m\n\u001b[0;32m---> 48\u001b[0m results_no_triton_fixed \u001b[38;5;241m=\u001b[39m analyze_fluorescence_decay_no_triton_fixed_kout(\n\u001b[1;32m     49\u001b[0m     df_clean,\n\u001b[1;32m     50\u001b[0m     filename,\n\u001b[1;32m     51\u001b[0m     k_deg_out_fixed\u001b[38;5;241m=\u001b[39mk_deg_out,\n\u001b[1;32m     52\u001b[0m     base_results_dir\u001b[38;5;241m=\u001b[39m results_folder,\n\u001b[1;32m     53\u001b[0m     p0\u001b[38;5;241m=\u001b[39mp0_no_triton\n\u001b[1;32m     54\u001b[0m )\n\u001b[1;32m     56\u001b[0m \u001b[38;5;66;03m# No Triton: numerical\u001b[39;00m\n\u001b[1;32m     57\u001b[0m results_no_triton_numerical \u001b[38;5;241m=\u001b[39m analyze_fluorescence_decay_no_triton_numerical_fixed_kout(\n\u001b[1;32m     58\u001b[0m     df_clean,\n\u001b[1;32m     59\u001b[0m     filename,\n\u001b[1;32m     60\u001b[0m     k_deg_out_fixed\u001b[38;5;241m=\u001b[39mk_deg_out,\n\u001b[1;32m     61\u001b[0m     base_results_dir\u001b[38;5;241m=\u001b[39m results_folder,\n\u001b[1;32m     62\u001b[0m )\n",
      "File \u001b[0;32m~/Documents/GitHub/Dithionite-Assays/code/src/fluorescence_fit.py:388\u001b[0m, in \u001b[0;36manalyze_fluorescence_decay_no_triton_fixed_kout\u001b[0;34m(data, filename, k_deg_out_fixed, base_results_dir, p0, os_system)\u001b[0m\n\u001b[1;32m    385\u001b[0m ub \u001b[38;5;241m=\u001b[39m [F0_guess, F0_guess, \u001b[38;5;241m10.0\u001b[39m, \u001b[38;5;241m10.0\u001b[39m]\n\u001b[1;32m    387\u001b[0m \u001b[38;5;28;01mtry\u001b[39;00m:\n\u001b[0;32m--> 388\u001b[0m     popt, _ \u001b[38;5;241m=\u001b[39m curve_fit(F_total_fixed, t, F, p0\u001b[38;5;241m=\u001b[39mp0, bounds\u001b[38;5;241m=\u001b[39m(lb, ub), maxfev\u001b[38;5;241m=\u001b[39m\u001b[38;5;241m50000\u001b[39m)\n\u001b[1;32m    389\u001b[0m     F_fit \u001b[38;5;241m=\u001b[39m F_total_fixed(t, \u001b[38;5;241m*\u001b[39mpopt)\n\u001b[1;32m    391\u001b[0m     \u001b[38;5;66;03m# Compute metrics\u001b[39;00m\n",
      "File \u001b[0;32m~/anaconda3/envs/ActiveLearning/lib/python3.11/site-packages/scipy/optimize/_minpack_py.py:974\u001b[0m, in \u001b[0;36mcurve_fit\u001b[0;34m(f, xdata, ydata, p0, sigma, absolute_sigma, check_finite, bounds, method, jac, full_output, nan_policy, **kwargs)\u001b[0m\n\u001b[1;32m    971\u001b[0m \u001b[38;5;28;01mif\u001b[39;00m \u001b[38;5;124m'\u001b[39m\u001b[38;5;124mmax_nfev\u001b[39m\u001b[38;5;124m'\u001b[39m \u001b[38;5;129;01mnot\u001b[39;00m \u001b[38;5;129;01min\u001b[39;00m kwargs:\n\u001b[1;32m    972\u001b[0m     kwargs[\u001b[38;5;124m'\u001b[39m\u001b[38;5;124mmax_nfev\u001b[39m\u001b[38;5;124m'\u001b[39m] \u001b[38;5;241m=\u001b[39m kwargs\u001b[38;5;241m.\u001b[39mpop(\u001b[38;5;124m'\u001b[39m\u001b[38;5;124mmaxfev\u001b[39m\u001b[38;5;124m'\u001b[39m, \u001b[38;5;28;01mNone\u001b[39;00m)\n\u001b[0;32m--> 974\u001b[0m res \u001b[38;5;241m=\u001b[39m least_squares(func, p0, jac\u001b[38;5;241m=\u001b[39mjac, bounds\u001b[38;5;241m=\u001b[39mbounds, method\u001b[38;5;241m=\u001b[39mmethod,\n\u001b[1;32m    975\u001b[0m                     \u001b[38;5;241m*\u001b[39m\u001b[38;5;241m*\u001b[39mkwargs)\n\u001b[1;32m    977\u001b[0m \u001b[38;5;28;01mif\u001b[39;00m \u001b[38;5;129;01mnot\u001b[39;00m res\u001b[38;5;241m.\u001b[39msuccess:\n\u001b[1;32m    978\u001b[0m     \u001b[38;5;28;01mraise\u001b[39;00m \u001b[38;5;167;01mRuntimeError\u001b[39;00m(\u001b[38;5;124m\"\u001b[39m\u001b[38;5;124mOptimal parameters not found: \u001b[39m\u001b[38;5;124m\"\u001b[39m \u001b[38;5;241m+\u001b[39m res\u001b[38;5;241m.\u001b[39mmessage)\n",
      "File \u001b[0;32m~/anaconda3/envs/ActiveLearning/lib/python3.11/site-packages/scipy/optimize/_lsq/least_squares.py:820\u001b[0m, in \u001b[0;36mleast_squares\u001b[0;34m(fun, x0, jac, bounds, method, ftol, xtol, gtol, x_scale, loss, f_scale, diff_step, tr_solver, tr_options, jac_sparsity, max_nfev, verbose, args, kwargs)\u001b[0m\n\u001b[1;32m    816\u001b[0m     \u001b[38;5;28;01mraise\u001b[39;00m \u001b[38;5;167;01mValueError\u001b[39;00m(\u001b[38;5;124m\"\u001b[39m\u001b[38;5;124mEach lower bound must be strictly less than each \u001b[39m\u001b[38;5;124m\"\u001b[39m\n\u001b[1;32m    817\u001b[0m                      \u001b[38;5;124m\"\u001b[39m\u001b[38;5;124mupper bound.\u001b[39m\u001b[38;5;124m\"\u001b[39m)\n\u001b[1;32m    819\u001b[0m \u001b[38;5;28;01mif\u001b[39;00m \u001b[38;5;129;01mnot\u001b[39;00m in_bounds(x0, lb, ub):\n\u001b[0;32m--> 820\u001b[0m     \u001b[38;5;28;01mraise\u001b[39;00m \u001b[38;5;167;01mValueError\u001b[39;00m(\u001b[38;5;124m\"\u001b[39m\u001b[38;5;124m`x0` is infeasible.\u001b[39m\u001b[38;5;124m\"\u001b[39m)\n\u001b[1;32m    822\u001b[0m x_scale \u001b[38;5;241m=\u001b[39m check_x_scale(x_scale, x0)\n\u001b[1;32m    824\u001b[0m ftol, xtol, gtol \u001b[38;5;241m=\u001b[39m check_tolerance(ftol, xtol, gtol, method)\n",
      "\u001b[0;31mValueError\u001b[0m: `x0` is infeasible."
     ]
    },
    {
     "data": {
      "text/plain": [
       "<Figure size 1000x600 with 0 Axes>"
      ]
     },
     "metadata": {},
     "output_type": "display_data"
    }
   ],
   "source": [
    "file_path = '../../data/PlateReader/20250804_sample10decylsulfate.xlsx'\n",
    "results = run_fluorescence_analysis(\n",
    "    file_path,\n",
    "    results_folder='../../results/20251002'\n",
    ")"
   ]
  },
  {
   "cell_type": "code",
   "execution_count": 6,
   "id": "55509a0c-3987-47ad-acb6-c33d58bf6840",
   "metadata": {},
   "outputs": [
    {
     "name": "stdout",
     "output_type": "stream",
     "text": [
      "Trial 1: R^2 = 0.1935, RMSE = 0.0538\n",
      "Trial 2: R^2 = 0.3258, RMSE = 0.0328\n",
      "Trial 3: R^2 = 0.6677, RMSE = 0.0175\n",
      "Saved: 20250804_sample10dodecylsulfate_fit_params_Triton.csv\n",
      "Saved: 20250804_sample10dodecylsulfate_fit_plot_Triton.png\n",
      "Saved: 20250804_sample10dodecylsulfate_residual_plot_Triton.png\n"
     ]
    },
    {
     "ename": "ValueError",
     "evalue": "`x0` is infeasible.",
     "output_type": "error",
     "traceback": [
      "\u001b[0;31m---------------------------------------------------------------------------\u001b[0m",
      "\u001b[0;31mValueError\u001b[0m                                Traceback (most recent call last)",
      "Cell \u001b[0;32mIn[6], line 2\u001b[0m\n\u001b[1;32m      1\u001b[0m file_path \u001b[38;5;241m=\u001b[39m \u001b[38;5;124m'\u001b[39m\u001b[38;5;124m../../data/PlateReader/20250804_sample10dodecylsulfate.xlsx\u001b[39m\u001b[38;5;124m'\u001b[39m\n\u001b[0;32m----> 2\u001b[0m results \u001b[38;5;241m=\u001b[39m run_fluorescence_analysis(\n\u001b[1;32m      3\u001b[0m     file_path,\n\u001b[1;32m      4\u001b[0m     results_folder\u001b[38;5;241m=\u001b[39m\u001b[38;5;124m'\u001b[39m\u001b[38;5;124m../../results/20251002\u001b[39m\u001b[38;5;124m'\u001b[39m\n\u001b[1;32m      5\u001b[0m )\n",
      "File \u001b[0;32m~/Documents/GitHub/Dithionite-Assays/code/src/main.py:48\u001b[0m, in \u001b[0;36mrun_fluorescence_analysis\u001b[0;34m(file_path, sheet_name, results_folder, time_range, p0_no_triton)\u001b[0m\n\u001b[1;32m     45\u001b[0m k_deg_out \u001b[38;5;241m=\u001b[39m results_triton[\u001b[38;5;124m'\u001b[39m\u001b[38;5;124mk_deg\u001b[39m\u001b[38;5;124m'\u001b[39m]\u001b[38;5;241m.\u001b[39mmean()\n\u001b[1;32m     47\u001b[0m \u001b[38;5;66;03m# No Triton: analytical\u001b[39;00m\n\u001b[0;32m---> 48\u001b[0m results_no_triton_fixed \u001b[38;5;241m=\u001b[39m analyze_fluorescence_decay_no_triton_fixed_kout(\n\u001b[1;32m     49\u001b[0m     df_clean,\n\u001b[1;32m     50\u001b[0m     filename,\n\u001b[1;32m     51\u001b[0m     k_deg_out_fixed\u001b[38;5;241m=\u001b[39mk_deg_out,\n\u001b[1;32m     52\u001b[0m     base_results_dir\u001b[38;5;241m=\u001b[39m results_folder,\n\u001b[1;32m     53\u001b[0m     p0\u001b[38;5;241m=\u001b[39mp0_no_triton\n\u001b[1;32m     54\u001b[0m )\n\u001b[1;32m     56\u001b[0m \u001b[38;5;66;03m# No Triton: numerical\u001b[39;00m\n\u001b[1;32m     57\u001b[0m results_no_triton_numerical \u001b[38;5;241m=\u001b[39m analyze_fluorescence_decay_no_triton_numerical_fixed_kout(\n\u001b[1;32m     58\u001b[0m     df_clean,\n\u001b[1;32m     59\u001b[0m     filename,\n\u001b[1;32m     60\u001b[0m     k_deg_out_fixed\u001b[38;5;241m=\u001b[39mk_deg_out,\n\u001b[1;32m     61\u001b[0m     base_results_dir\u001b[38;5;241m=\u001b[39m results_folder,\n\u001b[1;32m     62\u001b[0m )\n",
      "File \u001b[0;32m~/Documents/GitHub/Dithionite-Assays/code/src/fluorescence_fit.py:388\u001b[0m, in \u001b[0;36manalyze_fluorescence_decay_no_triton_fixed_kout\u001b[0;34m(data, filename, k_deg_out_fixed, base_results_dir, p0, os_system)\u001b[0m\n\u001b[1;32m    385\u001b[0m ub \u001b[38;5;241m=\u001b[39m [F0_guess, F0_guess, \u001b[38;5;241m10.0\u001b[39m, \u001b[38;5;241m10.0\u001b[39m]\n\u001b[1;32m    387\u001b[0m \u001b[38;5;28;01mtry\u001b[39;00m:\n\u001b[0;32m--> 388\u001b[0m     popt, _ \u001b[38;5;241m=\u001b[39m curve_fit(F_total_fixed, t, F, p0\u001b[38;5;241m=\u001b[39mp0, bounds\u001b[38;5;241m=\u001b[39m(lb, ub), maxfev\u001b[38;5;241m=\u001b[39m\u001b[38;5;241m50000\u001b[39m)\n\u001b[1;32m    389\u001b[0m     F_fit \u001b[38;5;241m=\u001b[39m F_total_fixed(t, \u001b[38;5;241m*\u001b[39mpopt)\n\u001b[1;32m    391\u001b[0m     \u001b[38;5;66;03m# Compute metrics\u001b[39;00m\n",
      "File \u001b[0;32m~/anaconda3/envs/ActiveLearning/lib/python3.11/site-packages/scipy/optimize/_minpack_py.py:974\u001b[0m, in \u001b[0;36mcurve_fit\u001b[0;34m(f, xdata, ydata, p0, sigma, absolute_sigma, check_finite, bounds, method, jac, full_output, nan_policy, **kwargs)\u001b[0m\n\u001b[1;32m    971\u001b[0m \u001b[38;5;28;01mif\u001b[39;00m \u001b[38;5;124m'\u001b[39m\u001b[38;5;124mmax_nfev\u001b[39m\u001b[38;5;124m'\u001b[39m \u001b[38;5;129;01mnot\u001b[39;00m \u001b[38;5;129;01min\u001b[39;00m kwargs:\n\u001b[1;32m    972\u001b[0m     kwargs[\u001b[38;5;124m'\u001b[39m\u001b[38;5;124mmax_nfev\u001b[39m\u001b[38;5;124m'\u001b[39m] \u001b[38;5;241m=\u001b[39m kwargs\u001b[38;5;241m.\u001b[39mpop(\u001b[38;5;124m'\u001b[39m\u001b[38;5;124mmaxfev\u001b[39m\u001b[38;5;124m'\u001b[39m, \u001b[38;5;28;01mNone\u001b[39;00m)\n\u001b[0;32m--> 974\u001b[0m res \u001b[38;5;241m=\u001b[39m least_squares(func, p0, jac\u001b[38;5;241m=\u001b[39mjac, bounds\u001b[38;5;241m=\u001b[39mbounds, method\u001b[38;5;241m=\u001b[39mmethod,\n\u001b[1;32m    975\u001b[0m                     \u001b[38;5;241m*\u001b[39m\u001b[38;5;241m*\u001b[39mkwargs)\n\u001b[1;32m    977\u001b[0m \u001b[38;5;28;01mif\u001b[39;00m \u001b[38;5;129;01mnot\u001b[39;00m res\u001b[38;5;241m.\u001b[39msuccess:\n\u001b[1;32m    978\u001b[0m     \u001b[38;5;28;01mraise\u001b[39;00m \u001b[38;5;167;01mRuntimeError\u001b[39;00m(\u001b[38;5;124m\"\u001b[39m\u001b[38;5;124mOptimal parameters not found: \u001b[39m\u001b[38;5;124m\"\u001b[39m \u001b[38;5;241m+\u001b[39m res\u001b[38;5;241m.\u001b[39mmessage)\n",
      "File \u001b[0;32m~/anaconda3/envs/ActiveLearning/lib/python3.11/site-packages/scipy/optimize/_lsq/least_squares.py:820\u001b[0m, in \u001b[0;36mleast_squares\u001b[0;34m(fun, x0, jac, bounds, method, ftol, xtol, gtol, x_scale, loss, f_scale, diff_step, tr_solver, tr_options, jac_sparsity, max_nfev, verbose, args, kwargs)\u001b[0m\n\u001b[1;32m    816\u001b[0m     \u001b[38;5;28;01mraise\u001b[39;00m \u001b[38;5;167;01mValueError\u001b[39;00m(\u001b[38;5;124m\"\u001b[39m\u001b[38;5;124mEach lower bound must be strictly less than each \u001b[39m\u001b[38;5;124m\"\u001b[39m\n\u001b[1;32m    817\u001b[0m                      \u001b[38;5;124m\"\u001b[39m\u001b[38;5;124mupper bound.\u001b[39m\u001b[38;5;124m\"\u001b[39m)\n\u001b[1;32m    819\u001b[0m \u001b[38;5;28;01mif\u001b[39;00m \u001b[38;5;129;01mnot\u001b[39;00m in_bounds(x0, lb, ub):\n\u001b[0;32m--> 820\u001b[0m     \u001b[38;5;28;01mraise\u001b[39;00m \u001b[38;5;167;01mValueError\u001b[39;00m(\u001b[38;5;124m\"\u001b[39m\u001b[38;5;124m`x0` is infeasible.\u001b[39m\u001b[38;5;124m\"\u001b[39m)\n\u001b[1;32m    822\u001b[0m x_scale \u001b[38;5;241m=\u001b[39m check_x_scale(x_scale, x0)\n\u001b[1;32m    824\u001b[0m ftol, xtol, gtol \u001b[38;5;241m=\u001b[39m check_tolerance(ftol, xtol, gtol, method)\n",
      "\u001b[0;31mValueError\u001b[0m: `x0` is infeasible."
     ]
    },
    {
     "data": {
      "text/plain": [
       "<Figure size 1000x600 with 0 Axes>"
      ]
     },
     "metadata": {},
     "output_type": "display_data"
    }
   ],
   "source": [
    "file_path = '../../data/PlateReader/20250804_sample10dodecylsulfate.xlsx'\n",
    "results = run_fluorescence_analysis(\n",
    "    file_path,\n",
    "    results_folder='../../results/20251002'\n",
    ")"
   ]
  },
  {
   "cell_type": "code",
   "execution_count": 7,
   "id": "2da0dace-c3a0-41eb-9672-a7700db39e38",
   "metadata": {},
   "outputs": [
    {
     "name": "stdout",
     "output_type": "stream",
     "text": [
      "Trial 1: R^2 = 0.0000, RMSE = 0.0384\n",
      "Trial 2: R^2 = 0.0075, RMSE = 0.0302\n",
      "Trial 3: R^2 = 0.4361, RMSE = 0.0258\n",
      "Saved: 20250804_sample10dodecylphosphate_fit_params_Triton.csv\n",
      "Saved: 20250804_sample10dodecylphosphate_fit_plot_Triton.png\n",
      "Saved: 20250804_sample10dodecylphosphate_residual_plot_Triton.png\n"
     ]
    },
    {
     "ename": "ValueError",
     "evalue": "`x0` is infeasible.",
     "output_type": "error",
     "traceback": [
      "\u001b[0;31m---------------------------------------------------------------------------\u001b[0m",
      "\u001b[0;31mValueError\u001b[0m                                Traceback (most recent call last)",
      "Cell \u001b[0;32mIn[7], line 2\u001b[0m\n\u001b[1;32m      1\u001b[0m file_path \u001b[38;5;241m=\u001b[39m \u001b[38;5;124m'\u001b[39m\u001b[38;5;124m../../data/PlateReader/20250804_sample10dodecylphosphate.xlsx\u001b[39m\u001b[38;5;124m'\u001b[39m\n\u001b[0;32m----> 2\u001b[0m results \u001b[38;5;241m=\u001b[39m run_fluorescence_analysis(\n\u001b[1;32m      3\u001b[0m     file_path,\n\u001b[1;32m      4\u001b[0m     results_folder\u001b[38;5;241m=\u001b[39m\u001b[38;5;124m'\u001b[39m\u001b[38;5;124m../../results/20251002\u001b[39m\u001b[38;5;124m'\u001b[39m\n\u001b[1;32m      5\u001b[0m )\n",
      "File \u001b[0;32m~/Documents/GitHub/Dithionite-Assays/code/src/main.py:48\u001b[0m, in \u001b[0;36mrun_fluorescence_analysis\u001b[0;34m(file_path, sheet_name, results_folder, time_range, p0_no_triton)\u001b[0m\n\u001b[1;32m     45\u001b[0m k_deg_out \u001b[38;5;241m=\u001b[39m results_triton[\u001b[38;5;124m'\u001b[39m\u001b[38;5;124mk_deg\u001b[39m\u001b[38;5;124m'\u001b[39m]\u001b[38;5;241m.\u001b[39mmean()\n\u001b[1;32m     47\u001b[0m \u001b[38;5;66;03m# No Triton: analytical\u001b[39;00m\n\u001b[0;32m---> 48\u001b[0m results_no_triton_fixed \u001b[38;5;241m=\u001b[39m analyze_fluorescence_decay_no_triton_fixed_kout(\n\u001b[1;32m     49\u001b[0m     df_clean,\n\u001b[1;32m     50\u001b[0m     filename,\n\u001b[1;32m     51\u001b[0m     k_deg_out_fixed\u001b[38;5;241m=\u001b[39mk_deg_out,\n\u001b[1;32m     52\u001b[0m     base_results_dir\u001b[38;5;241m=\u001b[39m results_folder,\n\u001b[1;32m     53\u001b[0m     p0\u001b[38;5;241m=\u001b[39mp0_no_triton\n\u001b[1;32m     54\u001b[0m )\n\u001b[1;32m     56\u001b[0m \u001b[38;5;66;03m# No Triton: numerical\u001b[39;00m\n\u001b[1;32m     57\u001b[0m results_no_triton_numerical \u001b[38;5;241m=\u001b[39m analyze_fluorescence_decay_no_triton_numerical_fixed_kout(\n\u001b[1;32m     58\u001b[0m     df_clean,\n\u001b[1;32m     59\u001b[0m     filename,\n\u001b[1;32m     60\u001b[0m     k_deg_out_fixed\u001b[38;5;241m=\u001b[39mk_deg_out,\n\u001b[1;32m     61\u001b[0m     base_results_dir\u001b[38;5;241m=\u001b[39m results_folder,\n\u001b[1;32m     62\u001b[0m )\n",
      "File \u001b[0;32m~/Documents/GitHub/Dithionite-Assays/code/src/fluorescence_fit.py:388\u001b[0m, in \u001b[0;36manalyze_fluorescence_decay_no_triton_fixed_kout\u001b[0;34m(data, filename, k_deg_out_fixed, base_results_dir, p0, os_system)\u001b[0m\n\u001b[1;32m    385\u001b[0m ub \u001b[38;5;241m=\u001b[39m [F0_guess, F0_guess, \u001b[38;5;241m10.0\u001b[39m, \u001b[38;5;241m10.0\u001b[39m]\n\u001b[1;32m    387\u001b[0m \u001b[38;5;28;01mtry\u001b[39;00m:\n\u001b[0;32m--> 388\u001b[0m     popt, _ \u001b[38;5;241m=\u001b[39m curve_fit(F_total_fixed, t, F, p0\u001b[38;5;241m=\u001b[39mp0, bounds\u001b[38;5;241m=\u001b[39m(lb, ub), maxfev\u001b[38;5;241m=\u001b[39m\u001b[38;5;241m50000\u001b[39m)\n\u001b[1;32m    389\u001b[0m     F_fit \u001b[38;5;241m=\u001b[39m F_total_fixed(t, \u001b[38;5;241m*\u001b[39mpopt)\n\u001b[1;32m    391\u001b[0m     \u001b[38;5;66;03m# Compute metrics\u001b[39;00m\n",
      "File \u001b[0;32m~/anaconda3/envs/ActiveLearning/lib/python3.11/site-packages/scipy/optimize/_minpack_py.py:974\u001b[0m, in \u001b[0;36mcurve_fit\u001b[0;34m(f, xdata, ydata, p0, sigma, absolute_sigma, check_finite, bounds, method, jac, full_output, nan_policy, **kwargs)\u001b[0m\n\u001b[1;32m    971\u001b[0m \u001b[38;5;28;01mif\u001b[39;00m \u001b[38;5;124m'\u001b[39m\u001b[38;5;124mmax_nfev\u001b[39m\u001b[38;5;124m'\u001b[39m \u001b[38;5;129;01mnot\u001b[39;00m \u001b[38;5;129;01min\u001b[39;00m kwargs:\n\u001b[1;32m    972\u001b[0m     kwargs[\u001b[38;5;124m'\u001b[39m\u001b[38;5;124mmax_nfev\u001b[39m\u001b[38;5;124m'\u001b[39m] \u001b[38;5;241m=\u001b[39m kwargs\u001b[38;5;241m.\u001b[39mpop(\u001b[38;5;124m'\u001b[39m\u001b[38;5;124mmaxfev\u001b[39m\u001b[38;5;124m'\u001b[39m, \u001b[38;5;28;01mNone\u001b[39;00m)\n\u001b[0;32m--> 974\u001b[0m res \u001b[38;5;241m=\u001b[39m least_squares(func, p0, jac\u001b[38;5;241m=\u001b[39mjac, bounds\u001b[38;5;241m=\u001b[39mbounds, method\u001b[38;5;241m=\u001b[39mmethod,\n\u001b[1;32m    975\u001b[0m                     \u001b[38;5;241m*\u001b[39m\u001b[38;5;241m*\u001b[39mkwargs)\n\u001b[1;32m    977\u001b[0m \u001b[38;5;28;01mif\u001b[39;00m \u001b[38;5;129;01mnot\u001b[39;00m res\u001b[38;5;241m.\u001b[39msuccess:\n\u001b[1;32m    978\u001b[0m     \u001b[38;5;28;01mraise\u001b[39;00m \u001b[38;5;167;01mRuntimeError\u001b[39;00m(\u001b[38;5;124m\"\u001b[39m\u001b[38;5;124mOptimal parameters not found: \u001b[39m\u001b[38;5;124m\"\u001b[39m \u001b[38;5;241m+\u001b[39m res\u001b[38;5;241m.\u001b[39mmessage)\n",
      "File \u001b[0;32m~/anaconda3/envs/ActiveLearning/lib/python3.11/site-packages/scipy/optimize/_lsq/least_squares.py:820\u001b[0m, in \u001b[0;36mleast_squares\u001b[0;34m(fun, x0, jac, bounds, method, ftol, xtol, gtol, x_scale, loss, f_scale, diff_step, tr_solver, tr_options, jac_sparsity, max_nfev, verbose, args, kwargs)\u001b[0m\n\u001b[1;32m    816\u001b[0m     \u001b[38;5;28;01mraise\u001b[39;00m \u001b[38;5;167;01mValueError\u001b[39;00m(\u001b[38;5;124m\"\u001b[39m\u001b[38;5;124mEach lower bound must be strictly less than each \u001b[39m\u001b[38;5;124m\"\u001b[39m\n\u001b[1;32m    817\u001b[0m                      \u001b[38;5;124m\"\u001b[39m\u001b[38;5;124mupper bound.\u001b[39m\u001b[38;5;124m\"\u001b[39m)\n\u001b[1;32m    819\u001b[0m \u001b[38;5;28;01mif\u001b[39;00m \u001b[38;5;129;01mnot\u001b[39;00m in_bounds(x0, lb, ub):\n\u001b[0;32m--> 820\u001b[0m     \u001b[38;5;28;01mraise\u001b[39;00m \u001b[38;5;167;01mValueError\u001b[39;00m(\u001b[38;5;124m\"\u001b[39m\u001b[38;5;124m`x0` is infeasible.\u001b[39m\u001b[38;5;124m\"\u001b[39m)\n\u001b[1;32m    822\u001b[0m x_scale \u001b[38;5;241m=\u001b[39m check_x_scale(x_scale, x0)\n\u001b[1;32m    824\u001b[0m ftol, xtol, gtol \u001b[38;5;241m=\u001b[39m check_tolerance(ftol, xtol, gtol, method)\n",
      "\u001b[0;31mValueError\u001b[0m: `x0` is infeasible."
     ]
    },
    {
     "data": {
      "text/plain": [
       "<Figure size 1000x600 with 0 Axes>"
      ]
     },
     "metadata": {},
     "output_type": "display_data"
    }
   ],
   "source": [
    "file_path = '../../data/PlateReader/20250804_sample10dodecylphosphate.xlsx'\n",
    "results = run_fluorescence_analysis(\n",
    "    file_path,\n",
    "    results_folder='../../results/20251002'\n",
    ")"
   ]
  },
  {
   "cell_type": "code",
   "execution_count": 11,
   "id": "8e84c54d-751a-41b5-b0a3-1f6feafd8dee",
   "metadata": {},
   "outputs": [],
   "source": [
    "# The results on Sample10 may have issues?"
   ]
  },
  {
   "cell_type": "markdown",
   "id": "213c26a6-08cd-425d-ad7b-b3c2c3b7d2c4",
   "metadata": {},
   "source": [
    "### Results analysis"
   ]
  },
  {
   "cell_type": "code",
   "execution_count": 12,
   "id": "0ae001ab-cc92-47c6-b7d0-9369adb7406b",
   "metadata": {},
   "outputs": [
    {
     "name": "stdout",
     "output_type": "stream",
     "text": [
      "Loaded: 20250718_sample2decylsulfate_results.joblib\n",
      "Loaded: 20250804_sample2dodecylphosphate_results.joblib\n",
      "Loaded: 20250718_sample2dodecylsulfate_results.joblib\n"
     ]
    }
   ],
   "source": [
    "import os\n",
    "import joblib\n",
    "\n",
    "results_folder = '../../results/20251002/'\n",
    "\n",
    "joblib_files = [f for f in os.listdir(results_folder) if f.endswith('.joblib')]\n",
    "\n",
    "# Load them into a dictionary\n",
    "all_results_loaded = {}\n",
    "for f in joblib_files:\n",
    "    file_path = os.path.join(results_folder, f)\n",
    "    results = joblib.load(file_path)\n",
    "    all_results_loaded[f] = results\n",
    "    print(f\"Loaded: {f}\")"
   ]
  },
  {
   "cell_type": "code",
   "execution_count": 21,
   "id": "ee400753-ba3b-49e5-a501-1c2b271b7df2",
   "metadata": {},
   "outputs": [],
   "source": [
    "k_perm_DS = all_results_loaded['20250718_sample2decylsulfate_results.joblib']['results_no_triton_fixed']['k_perm']\n",
    "k_perm_DS"
   ]
  },
  {
   "cell_type": "code",
   "execution_count": 23,
   "id": "808f4192-3eb1-4eb9-95c0-8b93d5d0a40f",
   "metadata": {},
   "outputs": [
    {
     "data": {
      "text/plain": [
       "0    0.183050\n",
       "1    0.184290\n",
       "2    0.183969\n",
       "Name: k_perm, dtype: float64"
      ]
     },
     "execution_count": 23,
     "metadata": {},
     "output_type": "execute_result"
    }
   ],
   "source": [
    "k_perm_DDS = all_results_loaded['20250718_sample2dodecylsulfate_results.joblib']['results_no_triton_fixed']['k_perm']\n",
    "k_perm_DDS"
   ]
  },
  {
   "cell_type": "code",
   "execution_count": 24,
   "id": "6723417e-d017-483b-a380-8f8a5e8e86ee",
   "metadata": {},
   "outputs": [
    {
     "data": {
      "text/plain": [
       "0    0.006565\n",
       "1    0.009031\n",
       "2    0.007800\n",
       "Name: k_perm, dtype: float64"
      ]
     },
     "execution_count": 24,
     "metadata": {},
     "output_type": "execute_result"
    }
   ],
   "source": [
    "k_perm_DDP = all_results_loaded['20250804_sample2dodecylphosphate_results.joblib']['results_no_triton_fixed']['k_perm']\n",
    "k_perm_DDP"
   ]
  },
  {
   "cell_type": "code",
   "execution_count": 28,
   "id": "aab54339-8d60-43d8-84bb-3b8025034e24",
   "metadata": {},
   "outputs": [
    {
     "data": {
      "image/png": "[encoded data removed]",
      "text/plain": [
       "<Figure size 600x500 with 1 Axes>"
      ]
     },
     "metadata": {},
     "output_type": "display_data"
    }
   ],
   "source": [
    "df_perm = pd.concat([k_perm_DS, k_perm_DDS, k_perm_DDP], axis=1)\n",
    "\n",
    "# Plot\n",
    "plt.figure(figsize=(6, 5))\n",
    "df_perm.boxplot()\n",
    "plt.ylabel(\"k_perm\")\n",
    "plt.xticks([1,2,3], [\"DS\", \"DDS\", \"DDP\"])  # explicitly set labels\n",
    "plt.title(\"Comparison of k_perm values\")\n",
    "plt.grid(True, linestyle=\"--\", alpha=0.6)\n",
    "plt.tight_layout()\n",
    "plt.show()"
   ]
  },
  {
   "cell_type": "code",
   "execution_count": null,
   "id": "fd396687-a607-4d94-b355-f7751ed53431",
   "metadata": {},
   "outputs": [],
   "source": []
  }
 ],
 "metadata": {
  "kernelspec": {
   "display_name": "Python 3 (ipykernel)",
   "language": "python",
   "name": "python3"
  },
  "language_info": {
   "codemirror_mode": {
    "name": "ipython",
    "version": 3
   },
   "file_extension": ".py",
   "mimetype": "text/x-python",
   "name": "python",
   "nbconvert_exporter": "python",
   "pygments_lexer": "ipython3",
   "version": "3.11.5"
  }
 },
 "nbformat": 4,
 "nbformat_minor": 5
}
