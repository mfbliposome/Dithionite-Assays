{
 "cells": [
  {
   "cell_type": "markdown",
   "id": "502c31e0-fbae-458e-8a0d-ccfe519b1b4c",
   "metadata": {},
   "source": [
    "**Created On:** April 9, 2025\\\n",
    "**Author:** Hao Liu"
   ]
  },
  {
   "cell_type": "markdown",
   "id": "e15624d1-9a52-45a1-a9a0-dd54d14da57d",
   "metadata": {},
   "source": [
    "- This notebook is to use functions to modeling dithionite experiment data"
   ]
  },
  {
   "cell_type": "markdown",
   "id": "eb9b7b51-aba7-40f2-9607-eb9cb41d6ab0",
   "metadata": {},
   "source": [
    "### Import necessary fuctions"
   ]
  },
  {
   "cell_type": "code",
   "execution_count": 1,
   "id": "fe3fcb80-2459-41f6-8216-efa49b30c4fa",
   "metadata": {},
   "outputs": [],
   "source": [
    "import sys\n",
    "import os\n",
    "\n",
    "# Add the `src` folder to the system path\n",
    "sys.path.append(os.path.abspath('../src'))\n",
    "\n",
    "# Now you can import\n",
    "from fluorescence_fit import preprocess_data, analyze_fluorescence_decay_triton, analyze_fluorescence_decay_no_triton,\\\n",
    "analyze_fluorescence_decay_no_triton_numerical"
   ]
  },
  {
   "cell_type": "markdown",
   "id": "6bc65ebb-bec2-433d-a0b4-81ba63d191eb",
   "metadata": {},
   "source": [
    "## Modeling"
   ]
  },
  {
   "cell_type": "markdown",
   "id": "96340a47-605a-4fe8-81ae-c6a842f34379",
   "metadata": {},
   "source": [
    "### 31_mM_Decanoic"
   ]
  },
  {
   "cell_type": "code",
   "execution_count": 2,
   "id": "864ebb09-3d7a-48ed-bcb9-9edc19c78e6c",
   "metadata": {},
   "outputs": [
    {
     "data": {
      "text/html": [
       "<div>\n",
       "<style scoped>\n",
       "    .dataframe tbody tr th:only-of-type {\n",
       "        vertical-align: middle;\n",
       "    }\n",
       "\n",
       "    .dataframe tbody tr th {\n",
       "        vertical-align: top;\n",
       "    }\n",
       "\n",
       "    .dataframe thead th {\n",
       "        text-align: right;\n",
       "    }\n",
       "</style>\n",
       "<table border=\"1\" class=\"dataframe\">\n",
       "  <thead>\n",
       "    <tr style=\"text-align: right;\">\n",
       "      <th></th>\n",
       "      <th>time</th>\n",
       "      <th>31 Trial 1</th>\n",
       "      <th>31 Trial 2</th>\n",
       "      <th>31 Trial 3</th>\n",
       "      <th>31 Triton Trial 1</th>\n",
       "      <th>31 Triton Trial 2</th>\n",
       "      <th>31 Triton Trial 3</th>\n",
       "    </tr>\n",
       "  </thead>\n",
       "  <tbody>\n",
       "    <tr>\n",
       "      <th>0</th>\n",
       "      <td>1</td>\n",
       "      <td>52.082999</td>\n",
       "      <td>79.803000</td>\n",
       "      <td>48.506000</td>\n",
       "      <td>95.304000</td>\n",
       "      <td>65.905000</td>\n",
       "      <td>79.755000</td>\n",
       "    </tr>\n",
       "    <tr>\n",
       "      <th>1</th>\n",
       "      <td>2</td>\n",
       "      <td>48.437666</td>\n",
       "      <td>77.849333</td>\n",
       "      <td>46.009333</td>\n",
       "      <td>91.979333</td>\n",
       "      <td>63.179333</td>\n",
       "      <td>76.676666</td>\n",
       "    </tr>\n",
       "    <tr>\n",
       "      <th>2</th>\n",
       "      <td>3</td>\n",
       "      <td>45.079999</td>\n",
       "      <td>75.929000</td>\n",
       "      <td>43.689333</td>\n",
       "      <td>88.884999</td>\n",
       "      <td>60.633666</td>\n",
       "      <td>73.661000</td>\n",
       "    </tr>\n",
       "    <tr>\n",
       "      <th>3</th>\n",
       "      <td>4</td>\n",
       "      <td>42.095666</td>\n",
       "      <td>74.096333</td>\n",
       "      <td>41.593000</td>\n",
       "      <td>85.958666</td>\n",
       "      <td>58.373000</td>\n",
       "      <td>70.774000</td>\n",
       "    </tr>\n",
       "    <tr>\n",
       "      <th>4</th>\n",
       "      <td>5</td>\n",
       "      <td>39.343000</td>\n",
       "      <td>72.202666</td>\n",
       "      <td>39.662000</td>\n",
       "      <td>83.005333</td>\n",
       "      <td>56.263333</td>\n",
       "      <td>67.834000</td>\n",
       "    </tr>\n",
       "    <tr>\n",
       "      <th>...</th>\n",
       "      <td>...</td>\n",
       "      <td>...</td>\n",
       "      <td>...</td>\n",
       "      <td>...</td>\n",
       "      <td>...</td>\n",
       "      <td>...</td>\n",
       "      <td>...</td>\n",
       "    </tr>\n",
       "    <tr>\n",
       "      <th>596</th>\n",
       "      <td>597</td>\n",
       "      <td>10.003000</td>\n",
       "      <td>20.658666</td>\n",
       "      <td>10.016666</td>\n",
       "      <td>11.368000</td>\n",
       "      <td>11.522333</td>\n",
       "      <td>12.343333</td>\n",
       "    </tr>\n",
       "    <tr>\n",
       "      <th>597</th>\n",
       "      <td>598</td>\n",
       "      <td>10.003000</td>\n",
       "      <td>20.663333</td>\n",
       "      <td>10.017333</td>\n",
       "      <td>11.394333</td>\n",
       "      <td>11.533666</td>\n",
       "      <td>12.356000</td>\n",
       "    </tr>\n",
       "    <tr>\n",
       "      <th>598</th>\n",
       "      <td>599</td>\n",
       "      <td>9.998666</td>\n",
       "      <td>20.688000</td>\n",
       "      <td>10.021000</td>\n",
       "      <td>11.416666</td>\n",
       "      <td>11.550000</td>\n",
       "      <td>12.345000</td>\n",
       "    </tr>\n",
       "    <tr>\n",
       "      <th>599</th>\n",
       "      <td>600</td>\n",
       "      <td>9.981333</td>\n",
       "      <td>20.684000</td>\n",
       "      <td>10.016000</td>\n",
       "      <td>11.406666</td>\n",
       "      <td>11.534666</td>\n",
       "      <td>12.333000</td>\n",
       "    </tr>\n",
       "    <tr>\n",
       "      <th>600</th>\n",
       "      <td>601</td>\n",
       "      <td>9.949999</td>\n",
       "      <td>20.631000</td>\n",
       "      <td>9.991000</td>\n",
       "      <td>11.408000</td>\n",
       "      <td>11.519000</td>\n",
       "      <td>12.332000</td>\n",
       "    </tr>\n",
       "  </tbody>\n",
       "</table>\n",
       "<p>601 rows × 7 columns</p>\n",
       "</div>"
      ],
      "text/plain": [
       "     time  31 Trial 1  31 Trial 2   31 Trial 3  31 Triton Trial 1  \\\n",
       "0       1   52.082999    79.803000   48.506000          95.304000   \n",
       "1       2   48.437666    77.849333   46.009333          91.979333   \n",
       "2       3   45.079999    75.929000   43.689333          88.884999   \n",
       "3       4   42.095666    74.096333   41.593000          85.958666   \n",
       "4       5   39.343000    72.202666   39.662000          83.005333   \n",
       "..    ...         ...          ...         ...                ...   \n",
       "596   597   10.003000    20.658666   10.016666          11.368000   \n",
       "597   598   10.003000    20.663333   10.017333          11.394333   \n",
       "598   599    9.998666    20.688000   10.021000          11.416666   \n",
       "599   600    9.981333    20.684000   10.016000          11.406666   \n",
       "600   601    9.949999    20.631000    9.991000          11.408000   \n",
       "\n",
       "     31 Triton Trial 2   31 Triton Trial 3  \n",
       "0             65.905000          79.755000  \n",
       "1             63.179333          76.676666  \n",
       "2             60.633666          73.661000  \n",
       "3             58.373000          70.774000  \n",
       "4             56.263333          67.834000  \n",
       "..                  ...                ...  \n",
       "596           11.522333          12.343333  \n",
       "597           11.533666          12.356000  \n",
       "598           11.550000          12.345000  \n",
       "599           11.534666          12.333000  \n",
       "600           11.519000          12.332000  \n",
       "\n",
       "[601 rows x 7 columns]"
      ]
     },
     "execution_count": 2,
     "metadata": {},
     "output_type": "execute_result"
    }
   ],
   "source": [
    "file_path1 = '../../data/31_mM_Decanoic.csv'\n",
    "df_preprocess, filename = preprocess_data(file_path1)\n",
    "df_preprocess"
   ]
  },
  {
   "cell_type": "code",
   "execution_count": 3,
   "id": "097c1a62-c324-49ba-b6f6-d11d523e591d",
   "metadata": {},
   "outputs": [],
   "source": [
    "data = df_preprocess"
   ]
  },
  {
   "cell_type": "code",
   "execution_count": 4,
   "id": "2cc69038-4490-4439-9d4d-655bdfdaf63b",
   "metadata": {},
   "outputs": [
    {
     "name": "stdout",
     "output_type": "stream",
     "text": [
      "Trial 1: R^2 = 0.9885, RMSE = 0.0492\n",
      "Trial 2: R^2 = 0.9701, RMSE = 0.0706\n",
      "Trial 3: R^2 = 0.9706, RMSE = 0.0755\n",
      "Saved: 31_mM_Decanoic_fit_params_Triton.csv\n",
      "Saved: 31_mM_Decanoic_fit_plot_Triton.png\n",
      "Saved: 31_mM_Decanoic_residual_plot_Triton.png\n"
     ]
    },
    {
     "data": {
      "text/html": [
       "<div>\n",
       "<style scoped>\n",
       "    .dataframe tbody tr th:only-of-type {\n",
       "        vertical-align: middle;\n",
       "    }\n",
       "\n",
       "    .dataframe tbody tr th {\n",
       "        vertical-align: top;\n",
       "    }\n",
       "\n",
       "    .dataframe thead th {\n",
       "        text-align: right;\n",
       "    }\n",
       "</style>\n",
       "<table border=\"1\" class=\"dataframe\">\n",
       "  <thead>\n",
       "    <tr style=\"text-align: right;\">\n",
       "      <th></th>\n",
       "      <th>F0</th>\n",
       "      <th>k_deg</th>\n",
       "      <th>R_squared</th>\n",
       "      <th>RMSE</th>\n",
       "    </tr>\n",
       "  </thead>\n",
       "  <tbody>\n",
       "    <tr>\n",
       "      <th>Trial 1</th>\n",
       "      <td>88.737746</td>\n",
       "      <td>0.026353</td>\n",
       "      <td>0.988530</td>\n",
       "      <td>0.049160</td>\n",
       "    </tr>\n",
       "    <tr>\n",
       "      <th>Trial 2</th>\n",
       "      <td>57.539559</td>\n",
       "      <td>0.023223</td>\n",
       "      <td>0.970109</td>\n",
       "      <td>0.070597</td>\n",
       "    </tr>\n",
       "    <tr>\n",
       "      <th>Trial 3</th>\n",
       "      <td>69.379622</td>\n",
       "      <td>0.025054</td>\n",
       "      <td>0.970594</td>\n",
       "      <td>0.075521</td>\n",
       "    </tr>\n",
       "  </tbody>\n",
       "</table>\n",
       "</div>"
      ],
      "text/plain": [
       "                F0     k_deg  R_squared      RMSE\n",
       "Trial 1  88.737746  0.026353   0.988530  0.049160\n",
       "Trial 2  57.539559  0.023223   0.970109  0.070597\n",
       "Trial 3  69.379622  0.025054   0.970594  0.075521"
      ]
     },
     "execution_count": 4,
     "metadata": {},
     "output_type": "execute_result"
    }
   ],
   "source": [
    "results11 = analyze_fluorescence_decay_triton(data, filename, time_range=60)\n",
    "results11"
   ]
  },
  {
   "cell_type": "code",
   "execution_count": 5,
   "id": "5abc1c3a-9bd6-4574-969e-dba615e5d9f2",
   "metadata": {},
   "outputs": [
    {
     "name": "stdout",
     "output_type": "stream",
     "text": [
      "Saved fit plot to: 31_mM_Decanoic_fit_plot_noTriton.png\n",
      "Saved residual plot to: 31_mM_Decanoic_residual_plot_noTriton.png\n",
      "Saved parameters to: 31_mM_Decanoic_fit_params_noTriton.csv\n"
     ]
    },
    {
     "data": {
      "text/html": [
       "<div>\n",
       "<style scoped>\n",
       "    .dataframe tbody tr th:only-of-type {\n",
       "        vertical-align: middle;\n",
       "    }\n",
       "\n",
       "    .dataframe tbody tr th {\n",
       "        vertical-align: top;\n",
       "    }\n",
       "\n",
       "    .dataframe thead th {\n",
       "        text-align: right;\n",
       "    }\n",
       "</style>\n",
       "<table border=\"1\" class=\"dataframe\">\n",
       "  <thead>\n",
       "    <tr style=\"text-align: right;\">\n",
       "      <th></th>\n",
       "      <th>Trial</th>\n",
       "      <th>C1</th>\n",
       "      <th>C2</th>\n",
       "      <th>k_deg_out</th>\n",
       "      <th>k_deg_in</th>\n",
       "      <th>k_perm</th>\n",
       "      <th>R_squared</th>\n",
       "      <th>RMSE</th>\n",
       "    </tr>\n",
       "  </thead>\n",
       "  <tbody>\n",
       "    <tr>\n",
       "      <th>0</th>\n",
       "      <td>31 Trial 1</td>\n",
       "      <td>42.649195</td>\n",
       "      <td>12.538766</td>\n",
       "      <td>0.091517</td>\n",
       "      <td>0.000418</td>\n",
       "      <td>0.091142</td>\n",
       "      <td>0.998189</td>\n",
       "      <td>0.176564</td>\n",
       "    </tr>\n",
       "    <tr>\n",
       "      <th>1</th>\n",
       "      <td>31 Trial 2</td>\n",
       "      <td>49.838307</td>\n",
       "      <td>27.737188</td>\n",
       "      <td>0.029851</td>\n",
       "      <td>0.000546</td>\n",
       "      <td>0.029323</td>\n",
       "      <td>0.994539</td>\n",
       "      <td>0.674577</td>\n",
       "    </tr>\n",
       "    <tr>\n",
       "      <th>2</th>\n",
       "      <td>31 Trial 3</td>\n",
       "      <td>37.165962</td>\n",
       "      <td>12.920905</td>\n",
       "      <td>0.065060</td>\n",
       "      <td>0.000484</td>\n",
       "      <td>0.064583</td>\n",
       "      <td>0.998445</td>\n",
       "      <td>0.174041</td>\n",
       "    </tr>\n",
       "  </tbody>\n",
       "</table>\n",
       "</div>"
      ],
      "text/plain": [
       "         Trial         C1         C2  k_deg_out  k_deg_in    k_perm  \\\n",
       "0   31 Trial 1  42.649195  12.538766   0.091517  0.000418  0.091142   \n",
       "1  31 Trial 2   49.838307  27.737188   0.029851  0.000546  0.029323   \n",
       "2   31 Trial 3  37.165962  12.920905   0.065060  0.000484  0.064583   \n",
       "\n",
       "   R_squared      RMSE  \n",
       "0   0.998189  0.176564  \n",
       "1   0.994539  0.674577  \n",
       "2   0.998445  0.174041  "
      ]
     },
     "execution_count": 5,
     "metadata": {},
     "output_type": "execute_result"
    }
   ],
   "source": [
    "results12 = analyze_fluorescence_decay_no_triton(data, filename, p0 =[25, 25, 0.01, 0.001, 0.005])\n",
    "results12"
   ]
  },
  {
   "cell_type": "code",
   "execution_count": 6,
   "id": "9f9cbf70-93c0-4291-ad86-737b9059e96d",
   "metadata": {},
   "outputs": [
    {
     "name": "stdout",
     "output_type": "stream",
     "text": [
      "Results saved to ../../results/31_mM_Decanoic_20250409-17:11\n"
     ]
    },
    {
     "data": {
      "text/html": [
       "<div>\n",
       "<style scoped>\n",
       "    .dataframe tbody tr th:only-of-type {\n",
       "        vertical-align: middle;\n",
       "    }\n",
       "\n",
       "    .dataframe tbody tr th {\n",
       "        vertical-align: top;\n",
       "    }\n",
       "\n",
       "    .dataframe thead th {\n",
       "        text-align: right;\n",
       "    }\n",
       "</style>\n",
       "<table border=\"1\" class=\"dataframe\">\n",
       "  <thead>\n",
       "    <tr style=\"text-align: right;\">\n",
       "      <th></th>\n",
       "      <th>Trial</th>\n",
       "      <th>F_out0</th>\n",
       "      <th>F_in0</th>\n",
       "      <th>k_deg_out</th>\n",
       "      <th>k_deg_in</th>\n",
       "      <th>k_perm</th>\n",
       "      <th>R_squared</th>\n",
       "      <th>RMSE</th>\n",
       "    </tr>\n",
       "  </thead>\n",
       "  <tbody>\n",
       "    <tr>\n",
       "      <th>0</th>\n",
       "      <td>Trial_1</td>\n",
       "      <td>38.932912</td>\n",
       "      <td>12.480381</td>\n",
       "      <td>0.091547</td>\n",
       "      <td>0.000418</td>\n",
       "      <td>0.090961</td>\n",
       "      <td>0.998198</td>\n",
       "      <td>0.176090</td>\n",
       "    </tr>\n",
       "    <tr>\n",
       "      <th>1</th>\n",
       "      <td>Trial_2</td>\n",
       "      <td>48.378577</td>\n",
       "      <td>27.221328</td>\n",
       "      <td>0.029845</td>\n",
       "      <td>0.000545</td>\n",
       "      <td>0.029288</td>\n",
       "      <td>0.994555</td>\n",
       "      <td>0.673602</td>\n",
       "    </tr>\n",
       "    <tr>\n",
       "      <th>2</th>\n",
       "      <td>Trial_3</td>\n",
       "      <td>34.839970</td>\n",
       "      <td>12.823236</td>\n",
       "      <td>0.065088</td>\n",
       "      <td>0.000484</td>\n",
       "      <td>0.064475</td>\n",
       "      <td>0.998457</td>\n",
       "      <td>0.173357</td>\n",
       "    </tr>\n",
       "  </tbody>\n",
       "</table>\n",
       "</div>"
      ],
      "text/plain": [
       "     Trial     F_out0      F_in0  k_deg_out  k_deg_in    k_perm  R_squared  \\\n",
       "0  Trial_1  38.932912  12.480381   0.091547  0.000418  0.090961   0.998198   \n",
       "1  Trial_2  48.378577  27.221328   0.029845  0.000545  0.029288   0.994555   \n",
       "2  Trial_3  34.839970  12.823236   0.065088  0.000484  0.064475   0.998457   \n",
       "\n",
       "       RMSE  \n",
       "0  0.176090  \n",
       "1  0.673602  \n",
       "2  0.173357  "
      ]
     },
     "execution_count": 6,
     "metadata": {},
     "output_type": "execute_result"
    }
   ],
   "source": [
    "results13 = analyze_fluorescence_decay_no_triton_numerical(data, filename)\n",
    "results13"
   ]
  },
  {
   "cell_type": "markdown",
   "id": "1b96b4ad-98c3-48b5-9d00-3da8e32dafea",
   "metadata": {},
   "source": [
    "### 33_mM_Decanoic"
   ]
  },
  {
   "cell_type": "code",
   "execution_count": 8,
   "id": "c7b019b3-e8be-421f-841b-1a20d5e0a749",
   "metadata": {},
   "outputs": [
    {
     "name": "stdout",
     "output_type": "stream",
     "text": [
      "Trial 1: R^2 = 0.9816, RMSE = 0.0543\n",
      "Trial 2: R^2 = 0.9970, RMSE = 0.0162\n",
      "Trial 3: R^2 = 0.9842, RMSE = 0.0386\n",
      "Saved: 33_mM_Decanoic_fit_params_Triton.csv\n",
      "Saved: 33_mM_Decanoic_fit_plot_Triton.png\n",
      "Saved: 33_mM_Decanoic_residual_plot_Triton.png\n",
      "Saved fit plot to: 33_mM_Decanoic_fit_plot_noTriton.png\n",
      "Saved residual plot to: 33_mM_Decanoic_residual_plot_noTriton.png\n",
      "Saved parameters to: 33_mM_Decanoic_fit_params_noTriton.csv\n",
      "Results saved to ../../results/33_mM_Decanoic_20250409-17:16\n"
     ]
    }
   ],
   "source": [
    "file_path2 = '../../data/33_mM_Decanoic.csv'\n",
    "df_preprocess, filename = preprocess_data(file_path2)\n",
    "data = df_preprocess\n",
    "results21 = analyze_fluorescence_decay_triton(data, filename, time_range=60)\n",
    "results21;\n",
    "results22 = analyze_fluorescence_decay_no_triton(data, filename, p0 =[25, 25, 0.01, 0.001, 0.005])\n",
    "results22;\n",
    "results23 = analyze_fluorescence_decay_no_triton_numerical(data, filename)\n",
    "results23;"
   ]
  },
  {
   "cell_type": "markdown",
   "id": "474a7730-73aa-49ed-bfff-a7c582058677",
   "metadata": {},
   "source": [
    "### 0.16_mM_DOPC"
   ]
  },
  {
   "cell_type": "code",
   "execution_count": 10,
   "id": "802f9cc1-630f-43d5-94d5-863a7738e556",
   "metadata": {},
   "outputs": [
    {
     "name": "stdout",
     "output_type": "stream",
     "text": [
      "Trial 1: R^2 = 1.0000, RMSE = 0.0009\n",
      "Trial 2: R^2 = 1.0000, RMSE = 0.0017\n",
      "Trial 3: R^2 = 0.9999, RMSE = 0.0022\n",
      "Saved: 0.16_mM_DOPC_fit_params_Triton.csv\n",
      "Saved: 0.16_mM_DOPC_fit_plot_Triton.png\n",
      "Saved: 0.16_mM_DOPC_residual_plot_Triton.png\n",
      "Saved fit plot to: 0.16_mM_DOPC_fit_plot_noTriton.png\n",
      "Saved residual plot to: 0.16_mM_DOPC_residual_plot_noTriton.png\n",
      "Saved parameters to: 0.16_mM_DOPC_fit_params_noTriton.csv\n",
      "Results saved to ../../results/0.16_mM_DOPC_20250409-17:20\n"
     ]
    }
   ],
   "source": [
    "file_path3 = '../../data/0.16_mM_DOPC.csv'\n",
    "df_preprocess, filename = preprocess_data(file_path3)\n",
    "data = df_preprocess\n",
    "results31 = analyze_fluorescence_decay_triton(data, filename, time_range=60)\n",
    "results31;\n",
    "results32 = analyze_fluorescence_decay_no_triton(data, filename, p0 =[25, 25, 0.01, 0.001, 0.005])\n",
    "results32;\n",
    "results33 = analyze_fluorescence_decay_no_triton_numerical(data, filename)\n",
    "results33;"
   ]
  },
  {
   "cell_type": "markdown",
   "id": "e6e6ccbd-6467-4a80-914d-108974a9d0ce",
   "metadata": {},
   "source": [
    "### 0.32_mM_DOPC"
   ]
  },
  {
   "cell_type": "code",
   "execution_count": 11,
   "id": "a1ae2845-924b-4a96-8858-33a064a99529",
   "metadata": {},
   "outputs": [
    {
     "name": "stdout",
     "output_type": "stream",
     "text": [
      "Trial 1: R^2 = 0.9997, RMSE = 0.0029\n",
      "Trial 2: R^2 = 0.9985, RMSE = 0.0072\n",
      "Trial 3: R^2 = 0.9997, RMSE = 0.0025\n",
      "Saved: 0.32_mM_DOPC_fit_params_Triton.csv\n",
      "Saved: 0.32_mM_DOPC_fit_plot_Triton.png\n",
      "Saved: 0.32_mM_DOPC_residual_plot_Triton.png\n",
      "Saved fit plot to: 0.32_mM_DOPC_fit_plot_noTriton.png\n",
      "Saved residual plot to: 0.32_mM_DOPC_residual_plot_noTriton.png\n",
      "Saved parameters to: 0.32_mM_DOPC_fit_params_noTriton.csv\n",
      "Results saved to ../../results/0.32_mM_DOPC_20250409-17:21\n"
     ]
    }
   ],
   "source": [
    "file_path4 = '../../data/0.32_mM_DOPC.csv'\n",
    "df_preprocess, filename = preprocess_data(file_path4)\n",
    "data = df_preprocess\n",
    "results41 = analyze_fluorescence_decay_triton(data, filename, time_range=60)\n",
    "results41;\n",
    "results42 = analyze_fluorescence_decay_no_triton(data, filename, p0 =[25, 25, 0.01, 0.001, 0.005])\n",
    "results42;\n",
    "results43 = analyze_fluorescence_decay_no_triton_numerical(data, filename)\n",
    "results43;"
   ]
  },
  {
   "cell_type": "markdown",
   "id": "32c6d00d-abf7-469b-9be8-1857a1f5e484",
   "metadata": {},
   "source": [
    "### 0.64_mM_DOPC"
   ]
  },
  {
   "cell_type": "code",
   "execution_count": 12,
   "id": "02355645-5b17-4a95-ad61-a621ff3866a9",
   "metadata": {},
   "outputs": [
    {
     "name": "stdout",
     "output_type": "stream",
     "text": [
      "Trial 1: R^2 = 0.9997, RMSE = 0.0057\n",
      "Trial 2: R^2 = 0.9988, RMSE = 0.0086\n",
      "Trial 3: R^2 = 0.9998, RMSE = 0.0043\n",
      "Saved: 0.64_mM_DOPC_fit_params_Triton.csv\n",
      "Saved: 0.64_mM_DOPC_fit_plot_Triton.png\n",
      "Saved: 0.64_mM_DOPC_residual_plot_Triton.png\n",
      "Saved fit plot to: 0.64_mM_DOPC_fit_plot_noTriton.png\n",
      "Saved residual plot to: 0.64_mM_DOPC_residual_plot_noTriton.png\n",
      "Saved parameters to: 0.64_mM_DOPC_fit_params_noTriton.csv\n",
      "Results saved to ../../results/0.64_mM_DOPC_20250409-17:22\n"
     ]
    }
   ],
   "source": [
    "file_path5 = '../../data/0.64_mM_DOPC.csv'\n",
    "df_preprocess, filename = preprocess_data(file_path5)\n",
    "data = df_preprocess\n",
    "results51 = analyze_fluorescence_decay_triton(data, filename, time_range=60)\n",
    "results51;\n",
    "results52 = analyze_fluorescence_decay_no_triton(data, filename, p0 =[25, 25, 0.01, 0.001, 0.005])\n",
    "results52;\n",
    "results53 = analyze_fluorescence_decay_no_triton_numerical(data, filename)\n",
    "results53;"
   ]
  },
  {
   "cell_type": "markdown",
   "id": "f7174a14-e71d-4129-a9f1-ce6112a1a489",
   "metadata": {},
   "source": [
    "### 0.96_mM_DOPC"
   ]
  },
  {
   "cell_type": "code",
   "execution_count": 13,
   "id": "82198f08-2515-47e6-8132-3d0e1f04d8ed",
   "metadata": {},
   "outputs": [
    {
     "name": "stdout",
     "output_type": "stream",
     "text": [
      "Trial 1: R^2 = 0.9995, RMSE = 0.0036\n",
      "Trial 2: R^2 = 0.9998, RMSE = 0.0016\n",
      "Trial 3: R^2 = 0.9983, RMSE = 0.0056\n",
      "Saved: 0.96_mM_DOPC_fit_params_Triton.csv\n",
      "Saved: 0.96_mM_DOPC_fit_plot_Triton.png\n",
      "Saved: 0.96_mM_DOPC_residual_plot_Triton.png\n",
      "Saved fit plot to: 0.96_mM_DOPC_fit_plot_noTriton.png\n",
      "Saved residual plot to: 0.96_mM_DOPC_residual_plot_noTriton.png\n",
      "Saved parameters to: 0.96_mM_DOPC_fit_params_noTriton.csv\n",
      "Results saved to ../../results/0.96_mM_DOPC_20250409-17:23\n"
     ]
    }
   ],
   "source": [
    "file_path6 = '../../data/0.96_mM_DOPC.csv'\n",
    "df_preprocess, filename = preprocess_data(file_path6)\n",
    "data = df_preprocess\n",
    "results61 = analyze_fluorescence_decay_triton(data, filename, time_range=60)\n",
    "results61;\n",
    "results62 = analyze_fluorescence_decay_no_triton(data, filename, p0 =[25, 25, 0.01, 0.001, 0.005])\n",
    "results62;\n",
    "results63 = analyze_fluorescence_decay_no_triton_numerical(data, filename)\n",
    "results63;"
   ]
  },
  {
   "cell_type": "markdown",
   "id": "3eb216ba-e799-4c3e-a1f4-3f267af1397b",
   "metadata": {},
   "source": [
    "### 1.28_mM_DOPC"
   ]
  },
  {
   "cell_type": "code",
   "execution_count": 14,
   "id": "81c4e4c7-343b-4c62-b706-87083d785fac",
   "metadata": {},
   "outputs": [
    {
     "name": "stdout",
     "output_type": "stream",
     "text": [
      "Trial 1: R^2 = 0.9998, RMSE = 0.0040\n",
      "Trial 2: R^2 = 0.9998, RMSE = 0.0021\n",
      "Trial 3: R^2 = 0.9998, RMSE = 0.0035\n",
      "Saved: 1.28_mM_DOPC_fit_params_Triton.csv\n",
      "Saved: 1.28_mM_DOPC_fit_plot_Triton.png\n",
      "Saved: 1.28_mM_DOPC_residual_plot_Triton.png\n",
      "Saved fit plot to: 1.28_mM_DOPC_fit_plot_noTriton.png\n",
      "Saved residual plot to: 1.28_mM_DOPC_residual_plot_noTriton.png\n",
      "Saved parameters to: 1.28_mM_DOPC_fit_params_noTriton.csv\n",
      "Results saved to ../../results/1.28_mM_DOPC_20250409-17:25\n"
     ]
    }
   ],
   "source": [
    "file_path7 = '../../data/1.28_mM_DOPC.csv'\n",
    "df_preprocess, filename = preprocess_data(file_path7)\n",
    "data = df_preprocess\n",
    "results71 = analyze_fluorescence_decay_triton(data, filename, time_range=60)\n",
    "results71;\n",
    "results72 = analyze_fluorescence_decay_no_triton(data, filename, p0 =[25, 25, 0.01, 0.001, 0.005])\n",
    "results72;\n",
    "results73 = analyze_fluorescence_decay_no_triton_numerical(data, filename)\n",
    "results73;"
   ]
  },
  {
   "cell_type": "markdown",
   "id": "fa899e4c-94d8-4a3f-b7ec-067aaeed679e",
   "metadata": {},
   "source": [
    "### 5_mM_Oleic"
   ]
  },
  {
   "cell_type": "code",
   "execution_count": 15,
   "id": "501cc938-3f07-4203-aae1-8960f4a8ef0b",
   "metadata": {},
   "outputs": [
    {
     "name": "stdout",
     "output_type": "stream",
     "text": [
      "Trial 1: R^2 = 0.7678, RMSE = 0.2457\n",
      "Trial 2: R^2 = 0.7233, RMSE = 0.2555\n",
      "Trial 3: R^2 = 0.6878, RMSE = 0.2590\n",
      "Saved: 5_mM_Oleic_fit_params_Triton.csv\n",
      "Saved: 5_mM_Oleic_fit_plot_Triton.png\n",
      "Saved: 5_mM_Oleic_residual_plot_Triton.png\n",
      "Saved fit plot to: 5_mM_Oleic_fit_plot_noTriton.png\n",
      "Saved residual plot to: 5_mM_Oleic_residual_plot_noTriton.png\n",
      "Saved parameters to: 5_mM_Oleic_fit_params_noTriton.csv\n",
      "Results saved to ../../results/5_mM_Oleic_20250409-17:29\n"
     ]
    }
   ],
   "source": [
    "file_path8 = '../../data/5_mM_Oleic.csv'\n",
    "df_preprocess, filename = preprocess_data(file_path8)\n",
    "data = df_preprocess\n",
    "results81 = analyze_fluorescence_decay_triton(data, filename, time_range=60)\n",
    "results81;\n",
    "results82 = analyze_fluorescence_decay_no_triton(data, filename, p0 =[25, 25, 0.01, 0.001, 0.005])\n",
    "results82;\n",
    "results83 = analyze_fluorescence_decay_no_triton_numerical(data, filename)\n",
    "results83;"
   ]
  },
  {
   "cell_type": "markdown",
   "id": "71dac41d-30c6-4e62-836a-4cda1186320a",
   "metadata": {},
   "source": [
    "### sample_25"
   ]
  },
  {
   "cell_type": "code",
   "execution_count": 16,
   "id": "afc365a4-c427-40b8-a000-c47861d3c0fd",
   "metadata": {},
   "outputs": [
    {
     "name": "stdout",
     "output_type": "stream",
     "text": [
      "Trial 1: R^2 = 0.9930, RMSE = 0.0376\n",
      "Trial 2: R^2 = 0.9759, RMSE = 0.0555\n",
      "Trial 3: R^2 = 0.9900, RMSE = 0.0518\n",
      "Saved: sample_25_fit_params_Triton.csv\n",
      "Saved: sample_25_fit_plot_Triton.png\n",
      "Saved: sample_25_residual_plot_Triton.png\n",
      "Saved fit plot to: sample_25_fit_plot_noTriton.png\n",
      "Saved residual plot to: sample_25_residual_plot_noTriton.png\n",
      "Saved parameters to: sample_25_fit_params_noTriton.csv\n",
      "Results saved to ../../results/sample_25_20250409-17:30\n"
     ]
    }
   ],
   "source": [
    "file_path9 = '../../data/sample_25.csv'\n",
    "df_preprocess, filename = preprocess_data(file_path9)\n",
    "data = df_preprocess\n",
    "results91 = analyze_fluorescence_decay_triton(data, filename, time_range=60)\n",
    "results91;\n",
    "results92 = analyze_fluorescence_decay_no_triton(data, filename, p0 =[25, 25, 0.01, 0.001, 0.005])\n",
    "results92;\n",
    "results93 = analyze_fluorescence_decay_no_triton_numerical(data, filename)\n",
    "results93;"
   ]
  },
  {
   "cell_type": "markdown",
   "id": "87654e49-e6bb-4707-92e2-cb3af8ff7387",
   "metadata": {},
   "source": [
    "### Run all files in one loop"
   ]
  },
  {
   "cell_type": "code",
   "execution_count": 2,
   "id": "4c08c10b-81c7-46d2-9ff2-fd7d4ae3efb3",
   "metadata": {},
   "outputs": [
    {
     "name": "stdout",
     "output_type": "stream",
     "text": [
      "\n",
      "🔍 Processing: 0.64_mM_DOPC\n",
      "Trial 1: R^2 = 0.9997, RMSE = 0.0057\n",
      "Trial 2: R^2 = 0.9988, RMSE = 0.0086\n",
      "Trial 3: R^2 = 0.9998, RMSE = 0.0043\n",
      "Saved: 0.64_mM_DOPC_fit_params_Triton.csv\n",
      "Saved: 0.64_mM_DOPC_fit_plot_Triton.png\n",
      "Saved: 0.64_mM_DOPC_residual_plot_Triton.png\n",
      "✅ Triton analysis done.\n",
      "Saved fit plot to: 0.64_mM_DOPC_fit_plot_noTriton.png\n",
      "Saved residual plot to: 0.64_mM_DOPC_residual_plot_noTriton.png\n",
      "Saved parameters to: 0.64_mM_DOPC_fit_params_noTriton.csv\n",
      "✅ No triton (explicit ODE) analysis done.\n",
      "Results saved to ../../results/0.64_mM_DOPC_20250409-17:55\n",
      "✅ No triton (numerical) analysis done.\n",
      "\n",
      "🔍 Processing: 5_mM_Oleic\n",
      "Trial 1: R^2 = 0.7678, RMSE = 0.2457\n",
      "Trial 2: R^2 = 0.7233, RMSE = 0.2555\n",
      "Trial 3: R^2 = 0.6878, RMSE = 0.2590\n",
      "Saved: 5_mM_Oleic_fit_params_Triton.csv\n",
      "Saved: 5_mM_Oleic_fit_plot_Triton.png\n",
      "Saved: 5_mM_Oleic_residual_plot_Triton.png\n",
      "✅ Triton analysis done.\n",
      "Saved fit plot to: 5_mM_Oleic_fit_plot_noTriton.png\n",
      "Saved residual plot to: 5_mM_Oleic_residual_plot_noTriton.png\n",
      "Saved parameters to: 5_mM_Oleic_fit_params_noTriton.csv\n",
      "✅ No triton (explicit ODE) analysis done.\n",
      "Results saved to ../../results/5_mM_Oleic_20250409-17:55\n",
      "✅ No triton (numerical) analysis done.\n",
      "\n",
      "🔍 Processing: sample_25\n",
      "Trial 1: R^2 = 0.9930, RMSE = 0.0376\n",
      "Trial 2: R^2 = 0.9759, RMSE = 0.0555\n",
      "Trial 3: R^2 = 0.9900, RMSE = 0.0518\n",
      "Saved: sample_25_fit_params_Triton.csv\n",
      "Saved: sample_25_fit_plot_Triton.png\n",
      "Saved: sample_25_residual_plot_Triton.png\n",
      "✅ Triton analysis done.\n",
      "Saved fit plot to: sample_25_fit_plot_noTriton.png\n",
      "Saved residual plot to: sample_25_residual_plot_noTriton.png\n",
      "Saved parameters to: sample_25_fit_params_noTriton.csv\n",
      "✅ No triton (explicit ODE) analysis done.\n",
      "Results saved to ../../results/sample_25_20250409-17:55\n",
      "✅ No triton (numerical) analysis done.\n",
      "\n",
      "🔍 Processing: 31_mM_Decanoic\n",
      "Trial 1: R^2 = 0.9885, RMSE = 0.0492\n",
      "Trial 2: R^2 = 0.9701, RMSE = 0.0706\n",
      "Trial 3: R^2 = 0.9706, RMSE = 0.0755\n",
      "Saved: 31_mM_Decanoic_fit_params_Triton.csv\n",
      "Saved: 31_mM_Decanoic_fit_plot_Triton.png\n",
      "Saved: 31_mM_Decanoic_residual_plot_Triton.png\n",
      "✅ Triton analysis done.\n",
      "Saved fit plot to: 31_mM_Decanoic_fit_plot_noTriton.png\n",
      "Saved residual plot to: 31_mM_Decanoic_residual_plot_noTriton.png\n",
      "Saved parameters to: 31_mM_Decanoic_fit_params_noTriton.csv\n",
      "✅ No triton (explicit ODE) analysis done.\n",
      "Results saved to ../../results/31_mM_Decanoic_20250409-17:55\n",
      "✅ No triton (numerical) analysis done.\n",
      "\n",
      "🔍 Processing: 0.96_mM_DOPC\n",
      "Trial 1: R^2 = 0.9995, RMSE = 0.0036\n",
      "Trial 2: R^2 = 0.9998, RMSE = 0.0016\n",
      "Trial 3: R^2 = 0.9983, RMSE = 0.0056\n",
      "Saved: 0.96_mM_DOPC_fit_params_Triton.csv\n",
      "Saved: 0.96_mM_DOPC_fit_plot_Triton.png\n",
      "Saved: 0.96_mM_DOPC_residual_plot_Triton.png\n",
      "✅ Triton analysis done.\n",
      "Saved fit plot to: 0.96_mM_DOPC_fit_plot_noTriton.png\n",
      "Saved residual plot to: 0.96_mM_DOPC_residual_plot_noTriton.png\n",
      "Saved parameters to: 0.96_mM_DOPC_fit_params_noTriton.csv\n",
      "✅ No triton (explicit ODE) analysis done.\n",
      "Results saved to ../../results/0.96_mM_DOPC_20250409-17:55\n",
      "✅ No triton (numerical) analysis done.\n",
      "\n",
      "🔍 Processing: 33_mM_Decanoic\n",
      "Trial 1: R^2 = 0.9816, RMSE = 0.0543\n",
      "Trial 2: R^2 = 0.9970, RMSE = 0.0162\n",
      "Trial 3: R^2 = 0.9842, RMSE = 0.0386\n",
      "Saved: 33_mM_Decanoic_fit_params_Triton.csv\n",
      "Saved: 33_mM_Decanoic_fit_plot_Triton.png\n",
      "Saved: 33_mM_Decanoic_residual_plot_Triton.png\n",
      "✅ Triton analysis done.\n",
      "Saved fit plot to: 33_mM_Decanoic_fit_plot_noTriton.png\n",
      "Saved residual plot to: 33_mM_Decanoic_residual_plot_noTriton.png\n",
      "Saved parameters to: 33_mM_Decanoic_fit_params_noTriton.csv\n",
      "✅ No triton (explicit ODE) analysis done.\n",
      "Results saved to ../../results/33_mM_Decanoic_20250409-17:55\n",
      "✅ No triton (numerical) analysis done.\n",
      "\n",
      "🔍 Processing: 0.32_mM_DOPC\n",
      "Trial 1: R^2 = 0.9997, RMSE = 0.0029\n",
      "Trial 2: R^2 = 0.9985, RMSE = 0.0072\n",
      "Trial 3: R^2 = 0.9997, RMSE = 0.0025\n",
      "Saved: 0.32_mM_DOPC_fit_params_Triton.csv\n",
      "Saved: 0.32_mM_DOPC_fit_plot_Triton.png\n",
      "Saved: 0.32_mM_DOPC_residual_plot_Triton.png\n",
      "✅ Triton analysis done.\n",
      "Saved fit plot to: 0.32_mM_DOPC_fit_plot_noTriton.png\n",
      "Saved residual plot to: 0.32_mM_DOPC_residual_plot_noTriton.png\n",
      "Saved parameters to: 0.32_mM_DOPC_fit_params_noTriton.csv\n",
      "✅ No triton (explicit ODE) analysis done.\n",
      "Results saved to ../../results/0.32_mM_DOPC_20250409-17:55\n",
      "✅ No triton (numerical) analysis done.\n",
      "\n",
      "🔍 Processing: 0.16_mM_DOPC\n",
      "Trial 1: R^2 = 1.0000, RMSE = 0.0009\n",
      "Trial 2: R^2 = 1.0000, RMSE = 0.0017\n",
      "Trial 3: R^2 = 0.9999, RMSE = 0.0022\n",
      "Saved: 0.16_mM_DOPC_fit_params_Triton.csv\n",
      "Saved: 0.16_mM_DOPC_fit_plot_Triton.png\n",
      "Saved: 0.16_mM_DOPC_residual_plot_Triton.png\n",
      "✅ Triton analysis done.\n",
      "Saved fit plot to: 0.16_mM_DOPC_fit_plot_noTriton.png\n",
      "Saved residual plot to: 0.16_mM_DOPC_residual_plot_noTriton.png\n",
      "Saved parameters to: 0.16_mM_DOPC_fit_params_noTriton.csv\n",
      "✅ No triton (explicit ODE) analysis done.\n",
      "Results saved to ../../results/0.16_mM_DOPC_20250409-17:55\n",
      "✅ No triton (numerical) analysis done.\n",
      "\n",
      "🔍 Processing: 1.28_mM_DOPC\n",
      "Trial 1: R^2 = 0.9998, RMSE = 0.0040\n",
      "Trial 2: R^2 = 0.9998, RMSE = 0.0021\n",
      "Trial 3: R^2 = 0.9998, RMSE = 0.0035\n",
      "Saved: 1.28_mM_DOPC_fit_params_Triton.csv\n",
      "Saved: 1.28_mM_DOPC_fit_plot_Triton.png\n",
      "Saved: 1.28_mM_DOPC_residual_plot_Triton.png\n",
      "✅ Triton analysis done.\n",
      "Saved fit plot to: 1.28_mM_DOPC_fit_plot_noTriton.png\n",
      "Saved residual plot to: 1.28_mM_DOPC_residual_plot_noTriton.png\n",
      "Saved parameters to: 1.28_mM_DOPC_fit_params_noTriton.csv\n",
      "✅ No triton (explicit ODE) analysis done.\n",
      "Results saved to ../../results/1.28_mM_DOPC_20250409-17:55\n",
      "✅ No triton (numerical) analysis done.\n"
     ]
    }
   ],
   "source": [
    "data_folder = '../../data'\n",
    "csv_files = [f for f in os.listdir(data_folder) if f.endswith('.csv')]\n",
    "\n",
    "# Loop through each file and run analyses\n",
    "for file_name in csv_files:\n",
    "    file_path = os.path.join(data_folder, file_name)\n",
    "    \n",
    "    # Preprocess\n",
    "    df_preprocess, filename = preprocess_data(file_path)\n",
    "    data = df_preprocess\n",
    "\n",
    "    # Run all three analyses\n",
    "    print(f\"\\n🔍 Processing: {filename}\")\n",
    "\n",
    "    try:\n",
    "        results1 = analyze_fluorescence_decay_triton(data, filename, time_range=60)\n",
    "        print(\"✅ Triton analysis done.\")\n",
    "    except Exception as e:\n",
    "        print(f\"⚠️ Error in triton analysis: {e}\")\n",
    "\n",
    "    try:\n",
    "        results2 = analyze_fluorescence_decay_no_triton(data, filename, p0=[25, 25, 0.01, 0.001, 0.005])\n",
    "        print(\"✅ No triton (explicit ODE) analysis done.\")\n",
    "    except Exception as e:\n",
    "        print(f\"⚠️ Error in no triton (explicit ODE) analysis: {e}\")\n",
    "\n",
    "    try:\n",
    "        results3 = analyze_fluorescence_decay_no_triton_numerical(data, filename)\n",
    "        print(\"✅ No triton (numerical) analysis done.\")\n",
    "    except Exception as e:\n",
    "        print(f\"⚠️ Error in no triton (numerical) analysis: {e}\")\n"
   ]
  },
  {
   "cell_type": "code",
   "execution_count": null,
   "id": "15e9e162-0685-471b-b35b-bd94b5c4dc25",
   "metadata": {},
   "outputs": [],
   "source": []
  },
  {
   "cell_type": "markdown",
   "id": "73d56e8e-b899-434d-a586-1bd9038dece0",
   "metadata": {},
   "source": [
    "## Theory"
   ]
  },
  {
   "cell_type": "markdown",
   "id": "f6889c0e-433c-429f-8b1e-5a51534e162b",
   "metadata": {},
   "source": [
    "### Add triton scenario\n",
    "##### First-Order Kinetics\n",
    "$ \\frac{d[NBD]}{dt} = -k_{deg}[NBD]$\n",
    "\n",
    "Fluorescence intensity F(t) is proportional to $[NBD](t)$:\n",
    "\n",
    "$ \\frac{dF}{dt} = -k_{deg}F$\n",
    "\n",
    "Integrate, we have\n",
    "\n",
    "- $F(t)=F_0e^{−k_{keg}t}$\n",
    "##### Linear equation\n",
    "- $lnF(t)=ln{F_0}−k_{keg}t$"
   ]
  },
  {
   "cell_type": "markdown",
   "id": "cec0528e-b772-4fb1-b06d-713d5b834784",
   "metadata": {},
   "source": [
    "### Without triton scenario\n",
    "\n",
    "1. Outer NBD decay\n",
    "   \n",
    "   $\\frac{dF_{out}}{dt} = -k_{deg,out}F_{out}$\n",
    "   \n",
    "   solve the equation:\n",
    "   \n",
    "   $F_{out}(t) = F_{out,0}e^{-k_{deg,out}t}$\n",
    "\n",
    "3. Inner NBD decay\n",
    "\n",
    "   i. DT concentration inside over time\n",
    "   \n",
    "   $\\frac{d[DT]_{in}}{dt} = k_{perm}([DT]_{out}-[DT]_{in})$\n",
    "\n",
    "   $[DT]_{in}(t) = [DT]_{out}(1-e^{-k_{perm}t})$ (DT gradually increases over time)\n",
    "\n",
    "   ii. Inner NBD decay due to DT inside:\n",
    "   \n",
    "   $\\frac{dF_{in}}{dt} = -k_{deg,in}[DT]_{in}(t)F_{in}$\n",
    "\n",
    "   substituing $[DT]_{in}(t)$ from above:\n",
    "   \n",
    "   $\\frac{dF_{in}}{dt} = -k_{deg,in}(1-e^{-k_{perm}t})F_{in}$ (assume DT is in excess)\n",
    "   \n",
    "   solve the equation:\n",
    "\n",
    "   $F_{in}(t) = F_{in,0}e^{-k_{deg,in}[t+\\frac{e^{-k_{perm}t}}{k_{perm}}]}$\n",
    "   \n",
    "$F_{total}(t) = C_{1}e^{-k_{deg,out}}t + C_{2}e^{(-k_{deg,in}[t+\\frac{e^{-k_{perm}t}}{k_{perm}})}$"
   ]
  },
  {
   "cell_type": "code",
   "execution_count": null,
   "id": "a3b7a9d0-91cb-439d-93b0-e9ad74d4197d",
   "metadata": {},
   "outputs": [],
   "source": []
  },
  {
   "cell_type": "markdown",
   "id": "e18f2ae9-995a-4d66-88a7-643322d5c2b8",
   "metadata": {},
   "source": [
    "## Appendix \n",
    "- (Details of solving differential equations)"
   ]
  },
  {
   "cell_type": "markdown",
   "id": "5a953901-0929-458e-8dd5-00842eafb5bf",
   "metadata": {},
   "source": [
    "\n",
    "- Solving linear first-order ordinary differential equation (integrating factor method)\n",
    "\n",
    "  $\\frac{d[DT]_{in}}{dt} = k_{perm}([DT]_{out}-[DT]_{in})$\n",
    "\n",
    "  $\\frac{d[DT]_{in}}{dt} +k_{perm}[DT]_{in}= k_{perm}([DT]_{out})$\n",
    "\n",
    "  define $A=k_{perm}, B=k_{perm}[DT]_{out}$\n",
    "  \n",
    "The equation has the form:\n",
    "\n",
    "$\\frac{dy}{dt} + P(t)y = Q(t)$\n",
    "\n",
    "let $u(t) = e^{\\int{P(t)}dt}=e^{At}$\n",
    "\n",
    "multiply by $e^{At}$:\n",
    "\n",
    "$e^{At}\\frac{dy}{dt}+e^{At}Ay = e^{At}B$\n",
    "\n",
    "Magic(left-side become the derivative of a product):\n",
    "\n",
    "$\\frac{d}{dt}(ye^{At})=e^{At}B$\n",
    "\n",
    "Integrate both sides:\n",
    "\n",
    "$\\int{\\frac{d}{dt}(ye^{At}})dt = \\int{Be^{At}}dt$\n",
    "\n",
    "so, $ye^{At}=\\frac{B}{A}e^{At} + C$\n",
    "\n",
    "divide both side by $e^{At}$:\n",
    "\n",
    "$y(t) = \\frac{B}{A}+Ce^{-At}$\n",
    "\n",
    "Therefore, $[DT]_{in}(t) = [DT]_{out} + Ce^{-k_{perm}t}$\n",
    "\n",
    "with $[DT]_{in}(0) = 0$\n",
    "\n",
    "$[DT]_{in}(t) = [DT]_{out}(1-e^{-k_{perm}t})$"
   ]
  },
  {
   "cell_type": "markdown",
   "id": "5f5a9102-7b9f-40dd-bec0-6bfb0147199f",
   "metadata": {},
   "source": [
    "- Solving linear first-order ordinary differential equation (integrating factor method)\n",
    "\n",
    "$\\frac{dF_{in}}{dt} = -k_{deg,in}(1-e^{-k_{perm}t})F_{in}$\n",
    "\n",
    "let $F(t) = F_{in}(t), k = k_{deg,in}, a = k_{perm}$\n",
    "\n",
    "so, $\\frac{dF}{dt} = -k(1-e^{-at})F(t)$\n",
    "\n",
    "Integrating factor: $u(t) = e^{\\int{k(1-e^{-at}})dt}$\n",
    "\n",
    "Compute integral:\n",
    "\n",
    "$\\int{k(1-e^{-at})}dt = k\\int({1-e^{-at}})dt = k[t+\\frac{1}{a}e^{-at}]+C$ (we can ignore C here)\n",
    "\n",
    "so, $u(t) = e^{k(t+\\frac{1}{a}e^{-at})}$\n",
    "\n",
    "multiply both sides of original differential equation by integrating factor:\n",
    "\n",
    "$e^{k(t+\\frac{1}{a}e^{-at})}\\frac{dF}{dt} + e^{k(t+\\frac{1}{a}e^{-at})}k(1-e^{-at})F = 0$\n",
    "\n",
    "which is the derivative of a product:\n",
    "\n",
    "$\\frac{d}{dt}[F(t)e^{k(t+\\frac{1}{a}e^{-at})}] = 0$\n",
    "\n",
    "integrating both sides:\n",
    "\n",
    "$F(t)e^{k(t+\\frac{1}{a}e^{-at})}=C$\n",
    "\n",
    "then we have:\n",
    "\n",
    "$F_{in}(t) = F_{in,0}e^{-k_{deg,in}[t+\\frac{e^{-k_{perm}t}}{k_{perm}}]}$"
   ]
  },
  {
   "cell_type": "code",
   "execution_count": null,
   "id": "6866f13b-03c0-4ff8-8393-4b4a7ca7b217",
   "metadata": {},
   "outputs": [],
   "source": []
  }
 ],
 "metadata": {
  "kernelspec": {
   "display_name": "Python 3 (ipykernel)",
   "language": "python",
   "name": "python3"
  },
  "language_info": {
   "codemirror_mode": {
    "name": "ipython",
    "version": 3
   },
   "file_extension": ".py",
   "mimetype": "text/x-python",
   "name": "python",
   "nbconvert_exporter": "python",
   "pygments_lexer": "ipython3",
   "version": "3.11.5"
  }
 },
 "nbformat": 4,
 "nbformat_minor": 5
}
